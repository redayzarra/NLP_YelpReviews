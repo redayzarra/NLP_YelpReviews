{
 "cells": [
  {
   "cell_type": "markdown",
   "id": "ace17ffb",
   "metadata": {},
   "source": [
    "# Yelp Reviews Classification"
   ]
  },
  {
   "cell_type": "markdown",
   "id": "07f00755",
   "metadata": {},
   "source": [
    "### by ReDay Zarra"
   ]
  },
  {
   "cell_type": "markdown",
   "id": "93ed5e58",
   "metadata": {},
   "source": [
    "This project covers the topic of **natural language processing or NLP to classify \n",
    "user-generated text and determine their intent**. The goal of this project is to build\n",
    "a model that can automatically classify Yelp reviews into one of several predefined\n",
    "categories, such as \"positive,\" \"negative,\" or \"neutral.\" To accomplish this, the \n",
    "project uses NLP techniques to process and analyze the text of the reviews.\n",
    "\n",
    "The model can then be used to predict the label for new, unseen reviews. This can \n",
    "be especially useful for businesses, as it can help them **identify patterns in \n",
    "customer feedback and make improvements to their products or services**."
   ]
  },
  {
   "cell_type": "markdown",
   "id": "7b300a30",
   "metadata": {},
   "source": [
    "## Importing the necessary libraries"
   ]
  },
  {
   "cell_type": "code",
   "execution_count": 1,
   "id": "93986a6d",
   "metadata": {},
   "outputs": [],
   "source": [
    "import pandas as pd\n",
    "import numpy as np"
   ]
  },
  {
   "cell_type": "markdown",
   "id": "314f4aee",
   "metadata": {},
   "source": [
    "> Pandas is a library used for data frame manipulations \n",
    "\n",
    "> NumPy is a package used for numerical analysis"
   ]
  },
  {
   "cell_type": "code",
   "execution_count": 3,
   "id": "93308f2d",
   "metadata": {},
   "outputs": [],
   "source": [
    "import matplotlib as plt\n",
    "import seaborn as sns"
   ]
  },
  {
   "cell_type": "markdown",
   "id": "3a55a28d",
   "metadata": {},
   "source": [
    ">Libraries used for plotting and data visualization"
   ]
  },
  {
   "cell_type": "code",
   "execution_count": null,
   "id": "5970aa42",
   "metadata": {},
   "outputs": [],
   "source": []
  },
  {
   "cell_type": "markdown",
   "id": "b550a829",
   "metadata": {},
   "source": []
  }
 ],
 "metadata": {
  "kernelspec": {
   "display_name": "Python 3 (ipykernel)",
   "language": "python",
   "name": "python3"
  },
  "language_info": {
   "codemirror_mode": {
    "name": "ipython",
    "version": 3
   },
   "file_extension": ".py",
   "mimetype": "text/x-python",
   "name": "python",
   "nbconvert_exporter": "python",
   "pygments_lexer": "ipython3",
   "version": "3.9.13"
  }
 },
 "nbformat": 4,
 "nbformat_minor": 5
}
