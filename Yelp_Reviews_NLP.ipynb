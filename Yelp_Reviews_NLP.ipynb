{
 "cells": [
  {
   "cell_type": "markdown",
   "id": "b074b257",
   "metadata": {},
   "source": [
    "# Yelp Reviews Classification"
   ]
  },
  {
   "cell_type": "markdown",
   "id": "4f9bd0ff",
   "metadata": {},
   "source": [
    "### by ReDay Zarra"
   ]
  },
  {
   "cell_type": "markdown",
   "id": "d834d677",
   "metadata": {},
   "source": [
    "This project covers the topic of **natural language processing or NLP to classify \n",
    "user-generated text and determine their intent**. The goal of this project is to build\n",
    "a model that can automatically classify 10,000 Yelp reviews into one of several predefined\n",
    "categories, such as \"positive,\" \"negative,\" or \"neutral.\" To accomplish this, the \n",
    "project uses NLP techniques to process and analyze the text of the reviews.\n",
    "\n",
    "The model can then be used to predict the label for new, unseen reviews. This can \n",
    "be especially useful for businesses, as it can help them **identify patterns in \n",
    "customer feedback and make improvements to their products or services**."
   ]
  },
  {
   "cell_type": "markdown",
   "id": "0090dcda",
   "metadata": {},
   "source": [
    "## Importing the necessary libraries"
   ]
  },
  {
   "cell_type": "code",
   "execution_count": 1,
   "id": "bfd5d670",
   "metadata": {},
   "outputs": [],
   "source": [
    "import pandas as pd\n",
    "import numpy as np"
   ]
  },
  {
   "cell_type": "markdown",
   "id": "4bf49ac4",
   "metadata": {},
   "source": [
    "> Pandas is a library used for data frame manipulations \n",
    "\n",
    "> NumPy is a package used for numerical analysis"
   ]
  },
  {
   "cell_type": "code",
   "execution_count": 2,
   "id": "5dbc86d7",
   "metadata": {},
   "outputs": [],
   "source": [
    "import matplotlib.pyplot as plt\n",
    "import seaborn as sns\n",
    "\n",
    "# Set seaborn style\n",
    "sns.set_style('darkgrid')"
   ]
  },
  {
   "cell_type": "markdown",
   "id": "f93ef9a1",
   "metadata": {},
   "source": [
    ">Libraries used for plotting and data visualization"
   ]
  },
  {
   "cell_type": "markdown",
   "id": "be1eef40",
   "metadata": {},
   "source": [
    "## Importing the dataset"
   ]
  },
  {
   "cell_type": "markdown",
   "id": "f23c97b0",
   "metadata": {},
   "source": [
    "Importing the dataset with the .read_csv method from Pandas to load the dataset and storing it in the yelp_reviews variable. We can take a glimpse at the dataset with the built-in Pandas methods."
   ]
  },
  {
   "cell_type": "code",
   "execution_count": 3,
   "id": "091428c5",
   "metadata": {},
   "outputs": [],
   "source": [
    "yelp_reviews = pd.read_csv('yelp.csv')"
   ]
  },
  {
   "cell_type": "code",
   "execution_count": 4,
   "id": "07941ccf",
   "metadata": {
    "scrolled": true
   },
   "outputs": [
    {
     "data": {
      "text/html": [
       "<div>\n",
       "<style scoped>\n",
       "    .dataframe tbody tr th:only-of-type {\n",
       "        vertical-align: middle;\n",
       "    }\n",
       "\n",
       "    .dataframe tbody tr th {\n",
       "        vertical-align: top;\n",
       "    }\n",
       "\n",
       "    .dataframe thead th {\n",
       "        text-align: right;\n",
       "    }\n",
       "</style>\n",
       "<table border=\"1\" class=\"dataframe\">\n",
       "  <thead>\n",
       "    <tr style=\"text-align: right;\">\n",
       "      <th></th>\n",
       "      <th>business_id</th>\n",
       "      <th>date</th>\n",
       "      <th>review_id</th>\n",
       "      <th>stars</th>\n",
       "      <th>text</th>\n",
       "      <th>type</th>\n",
       "      <th>user_id</th>\n",
       "      <th>cool</th>\n",
       "      <th>useful</th>\n",
       "      <th>funny</th>\n",
       "    </tr>\n",
       "  </thead>\n",
       "  <tbody>\n",
       "    <tr>\n",
       "      <th>0</th>\n",
       "      <td>9yKzy9PApeiPPOUJEtnvkg</td>\n",
       "      <td>2011-01-26</td>\n",
       "      <td>fWKvX83p0-ka4JS3dc6E5A</td>\n",
       "      <td>5</td>\n",
       "      <td>My wife took me here on my birthday for breakf...</td>\n",
       "      <td>review</td>\n",
       "      <td>rLtl8ZkDX5vH5nAx9C3q5Q</td>\n",
       "      <td>2</td>\n",
       "      <td>5</td>\n",
       "      <td>0</td>\n",
       "    </tr>\n",
       "    <tr>\n",
       "      <th>1</th>\n",
       "      <td>ZRJwVLyzEJq1VAihDhYiow</td>\n",
       "      <td>2011-07-27</td>\n",
       "      <td>IjZ33sJrzXqU-0X6U8NwyA</td>\n",
       "      <td>5</td>\n",
       "      <td>I have no idea why some people give bad review...</td>\n",
       "      <td>review</td>\n",
       "      <td>0a2KyEL0d3Yb1V6aivbIuQ</td>\n",
       "      <td>0</td>\n",
       "      <td>0</td>\n",
       "      <td>0</td>\n",
       "    </tr>\n",
       "    <tr>\n",
       "      <th>2</th>\n",
       "      <td>6oRAC4uyJCsJl1X0WZpVSA</td>\n",
       "      <td>2012-06-14</td>\n",
       "      <td>IESLBzqUCLdSzSqm0eCSxQ</td>\n",
       "      <td>4</td>\n",
       "      <td>love the gyro plate. Rice is so good and I als...</td>\n",
       "      <td>review</td>\n",
       "      <td>0hT2KtfLiobPvh6cDC8JQg</td>\n",
       "      <td>0</td>\n",
       "      <td>1</td>\n",
       "      <td>0</td>\n",
       "    </tr>\n",
       "    <tr>\n",
       "      <th>3</th>\n",
       "      <td>_1QQZuf4zZOyFCvXc0o6Vg</td>\n",
       "      <td>2010-05-27</td>\n",
       "      <td>G-WvGaISbqqaMHlNnByodA</td>\n",
       "      <td>5</td>\n",
       "      <td>Rosie, Dakota, and I LOVE Chaparral Dog Park!!...</td>\n",
       "      <td>review</td>\n",
       "      <td>uZetl9T0NcROGOyFfughhg</td>\n",
       "      <td>1</td>\n",
       "      <td>2</td>\n",
       "      <td>0</td>\n",
       "    </tr>\n",
       "    <tr>\n",
       "      <th>4</th>\n",
       "      <td>6ozycU1RpktNG2-1BroVtw</td>\n",
       "      <td>2012-01-05</td>\n",
       "      <td>1uJFq2r5QfJG_6ExMRCaGw</td>\n",
       "      <td>5</td>\n",
       "      <td>General Manager Scott Petello is a good egg!!!...</td>\n",
       "      <td>review</td>\n",
       "      <td>vYmM4KTsC8ZfQBg-j5MWkw</td>\n",
       "      <td>0</td>\n",
       "      <td>0</td>\n",
       "      <td>0</td>\n",
       "    </tr>\n",
       "  </tbody>\n",
       "</table>\n",
       "</div>"
      ],
      "text/plain": [
       "              business_id        date               review_id  stars  \\\n",
       "0  9yKzy9PApeiPPOUJEtnvkg  2011-01-26  fWKvX83p0-ka4JS3dc6E5A      5   \n",
       "1  ZRJwVLyzEJq1VAihDhYiow  2011-07-27  IjZ33sJrzXqU-0X6U8NwyA      5   \n",
       "2  6oRAC4uyJCsJl1X0WZpVSA  2012-06-14  IESLBzqUCLdSzSqm0eCSxQ      4   \n",
       "3  _1QQZuf4zZOyFCvXc0o6Vg  2010-05-27  G-WvGaISbqqaMHlNnByodA      5   \n",
       "4  6ozycU1RpktNG2-1BroVtw  2012-01-05  1uJFq2r5QfJG_6ExMRCaGw      5   \n",
       "\n",
       "                                                text    type  \\\n",
       "0  My wife took me here on my birthday for breakf...  review   \n",
       "1  I have no idea why some people give bad review...  review   \n",
       "2  love the gyro plate. Rice is so good and I als...  review   \n",
       "3  Rosie, Dakota, and I LOVE Chaparral Dog Park!!...  review   \n",
       "4  General Manager Scott Petello is a good egg!!!...  review   \n",
       "\n",
       "                  user_id  cool  useful  funny  \n",
       "0  rLtl8ZkDX5vH5nAx9C3q5Q     2       5      0  \n",
       "1  0a2KyEL0d3Yb1V6aivbIuQ     0       0      0  \n",
       "2  0hT2KtfLiobPvh6cDC8JQg     0       1      0  \n",
       "3  uZetl9T0NcROGOyFfughhg     1       2      0  \n",
       "4  vYmM4KTsC8ZfQBg-j5MWkw     0       0      0  "
      ]
     },
     "execution_count": 4,
     "metadata": {},
     "output_type": "execute_result"
    }
   ],
   "source": [
    "yelp_reviews.head()"
   ]
  },
  {
   "cell_type": "markdown",
   "id": "83eea2fc",
   "metadata": {},
   "source": [
    "> The .head() method is used to **show the first five rows** of the dataframe."
   ]
  },
  {
   "cell_type": "code",
   "execution_count": 5,
   "id": "12d7bb86",
   "metadata": {
    "scrolled": true
   },
   "outputs": [
    {
     "data": {
      "text/html": [
       "<div>\n",
       "<style scoped>\n",
       "    .dataframe tbody tr th:only-of-type {\n",
       "        vertical-align: middle;\n",
       "    }\n",
       "\n",
       "    .dataframe tbody tr th {\n",
       "        vertical-align: top;\n",
       "    }\n",
       "\n",
       "    .dataframe thead th {\n",
       "        text-align: right;\n",
       "    }\n",
       "</style>\n",
       "<table border=\"1\" class=\"dataframe\">\n",
       "  <thead>\n",
       "    <tr style=\"text-align: right;\">\n",
       "      <th></th>\n",
       "      <th>business_id</th>\n",
       "      <th>date</th>\n",
       "      <th>review_id</th>\n",
       "      <th>stars</th>\n",
       "      <th>text</th>\n",
       "      <th>type</th>\n",
       "      <th>user_id</th>\n",
       "      <th>cool</th>\n",
       "      <th>useful</th>\n",
       "      <th>funny</th>\n",
       "    </tr>\n",
       "  </thead>\n",
       "  <tbody>\n",
       "    <tr>\n",
       "      <th>9995</th>\n",
       "      <td>VY_tvNUCCXGXQeSvJl757Q</td>\n",
       "      <td>2012-07-28</td>\n",
       "      <td>Ubyfp2RSDYW0g7Mbr8N3iA</td>\n",
       "      <td>3</td>\n",
       "      <td>First visit...Had lunch here today - used my G...</td>\n",
       "      <td>review</td>\n",
       "      <td>_eqQoPtQ3e3UxLE4faT6ow</td>\n",
       "      <td>1</td>\n",
       "      <td>2</td>\n",
       "      <td>0</td>\n",
       "    </tr>\n",
       "    <tr>\n",
       "      <th>9996</th>\n",
       "      <td>EKzMHI1tip8rC1-ZAy64yg</td>\n",
       "      <td>2012-01-18</td>\n",
       "      <td>2XyIOQKbVFb6uXQdJ0RzlQ</td>\n",
       "      <td>4</td>\n",
       "      <td>Should be called house of deliciousness!\\n\\nI ...</td>\n",
       "      <td>review</td>\n",
       "      <td>ROru4uk5SaYc3rg8IU7SQw</td>\n",
       "      <td>0</td>\n",
       "      <td>0</td>\n",
       "      <td>0</td>\n",
       "    </tr>\n",
       "    <tr>\n",
       "      <th>9997</th>\n",
       "      <td>53YGfwmbW73JhFiemNeyzQ</td>\n",
       "      <td>2010-11-16</td>\n",
       "      <td>jyznYkIbpqVmlsZxSDSypA</td>\n",
       "      <td>4</td>\n",
       "      <td>I recently visited Olive and Ivy for business ...</td>\n",
       "      <td>review</td>\n",
       "      <td>gGbN1aKQHMgfQZkqlsuwzg</td>\n",
       "      <td>0</td>\n",
       "      <td>0</td>\n",
       "      <td>0</td>\n",
       "    </tr>\n",
       "    <tr>\n",
       "      <th>9998</th>\n",
       "      <td>9SKdOoDHcFoxK5ZtsgHJoA</td>\n",
       "      <td>2012-12-02</td>\n",
       "      <td>5UKq9WQE1qQbJ0DJbc-B6Q</td>\n",
       "      <td>2</td>\n",
       "      <td>My nephew just moved to Scottsdale recently so...</td>\n",
       "      <td>review</td>\n",
       "      <td>0lyVoNazXa20WzUyZPLaQQ</td>\n",
       "      <td>0</td>\n",
       "      <td>0</td>\n",
       "      <td>0</td>\n",
       "    </tr>\n",
       "    <tr>\n",
       "      <th>9999</th>\n",
       "      <td>pF7uRzygyZsltbmVpjIyvw</td>\n",
       "      <td>2010-10-16</td>\n",
       "      <td>vWSmOhg2ID1MNZHaWapGbA</td>\n",
       "      <td>5</td>\n",
       "      <td>4-5 locations.. all 4.5 star average.. I think...</td>\n",
       "      <td>review</td>\n",
       "      <td>KSBFytcdjPKZgXKQnYQdkA</td>\n",
       "      <td>0</td>\n",
       "      <td>0</td>\n",
       "      <td>0</td>\n",
       "    </tr>\n",
       "  </tbody>\n",
       "</table>\n",
       "</div>"
      ],
      "text/plain": [
       "                 business_id        date               review_id  stars  \\\n",
       "9995  VY_tvNUCCXGXQeSvJl757Q  2012-07-28  Ubyfp2RSDYW0g7Mbr8N3iA      3   \n",
       "9996  EKzMHI1tip8rC1-ZAy64yg  2012-01-18  2XyIOQKbVFb6uXQdJ0RzlQ      4   \n",
       "9997  53YGfwmbW73JhFiemNeyzQ  2010-11-16  jyznYkIbpqVmlsZxSDSypA      4   \n",
       "9998  9SKdOoDHcFoxK5ZtsgHJoA  2012-12-02  5UKq9WQE1qQbJ0DJbc-B6Q      2   \n",
       "9999  pF7uRzygyZsltbmVpjIyvw  2010-10-16  vWSmOhg2ID1MNZHaWapGbA      5   \n",
       "\n",
       "                                                   text    type  \\\n",
       "9995  First visit...Had lunch here today - used my G...  review   \n",
       "9996  Should be called house of deliciousness!\\n\\nI ...  review   \n",
       "9997  I recently visited Olive and Ivy for business ...  review   \n",
       "9998  My nephew just moved to Scottsdale recently so...  review   \n",
       "9999  4-5 locations.. all 4.5 star average.. I think...  review   \n",
       "\n",
       "                     user_id  cool  useful  funny  \n",
       "9995  _eqQoPtQ3e3UxLE4faT6ow     1       2      0  \n",
       "9996  ROru4uk5SaYc3rg8IU7SQw     0       0      0  \n",
       "9997  gGbN1aKQHMgfQZkqlsuwzg     0       0      0  \n",
       "9998  0lyVoNazXa20WzUyZPLaQQ     0       0      0  \n",
       "9999  KSBFytcdjPKZgXKQnYQdkA     0       0      0  "
      ]
     },
     "execution_count": 5,
     "metadata": {},
     "output_type": "execute_result"
    }
   ],
   "source": [
    "yelp_reviews.tail()"
   ]
  },
  {
   "cell_type": "markdown",
   "id": "baaa3db8",
   "metadata": {},
   "source": [
    "> The .tail() method is used to **show the last five rows** of the dataframe."
   ]
  },
  {
   "cell_type": "code",
   "execution_count": 6,
   "id": "38ba2aaf",
   "metadata": {},
   "outputs": [
    {
     "data": {
      "text/html": [
       "<div>\n",
       "<style scoped>\n",
       "    .dataframe tbody tr th:only-of-type {\n",
       "        vertical-align: middle;\n",
       "    }\n",
       "\n",
       "    .dataframe tbody tr th {\n",
       "        vertical-align: top;\n",
       "    }\n",
       "\n",
       "    .dataframe thead th {\n",
       "        text-align: right;\n",
       "    }\n",
       "</style>\n",
       "<table border=\"1\" class=\"dataframe\">\n",
       "  <thead>\n",
       "    <tr style=\"text-align: right;\">\n",
       "      <th></th>\n",
       "      <th>stars</th>\n",
       "      <th>cool</th>\n",
       "      <th>useful</th>\n",
       "      <th>funny</th>\n",
       "    </tr>\n",
       "  </thead>\n",
       "  <tbody>\n",
       "    <tr>\n",
       "      <th>count</th>\n",
       "      <td>10000.000000</td>\n",
       "      <td>10000.000000</td>\n",
       "      <td>10000.000000</td>\n",
       "      <td>10000.000000</td>\n",
       "    </tr>\n",
       "    <tr>\n",
       "      <th>mean</th>\n",
       "      <td>3.777500</td>\n",
       "      <td>0.876800</td>\n",
       "      <td>1.409300</td>\n",
       "      <td>0.701300</td>\n",
       "    </tr>\n",
       "    <tr>\n",
       "      <th>std</th>\n",
       "      <td>1.214636</td>\n",
       "      <td>2.067861</td>\n",
       "      <td>2.336647</td>\n",
       "      <td>1.907942</td>\n",
       "    </tr>\n",
       "    <tr>\n",
       "      <th>min</th>\n",
       "      <td>1.000000</td>\n",
       "      <td>0.000000</td>\n",
       "      <td>0.000000</td>\n",
       "      <td>0.000000</td>\n",
       "    </tr>\n",
       "    <tr>\n",
       "      <th>25%</th>\n",
       "      <td>3.000000</td>\n",
       "      <td>0.000000</td>\n",
       "      <td>0.000000</td>\n",
       "      <td>0.000000</td>\n",
       "    </tr>\n",
       "    <tr>\n",
       "      <th>50%</th>\n",
       "      <td>4.000000</td>\n",
       "      <td>0.000000</td>\n",
       "      <td>1.000000</td>\n",
       "      <td>0.000000</td>\n",
       "    </tr>\n",
       "    <tr>\n",
       "      <th>75%</th>\n",
       "      <td>5.000000</td>\n",
       "      <td>1.000000</td>\n",
       "      <td>2.000000</td>\n",
       "      <td>1.000000</td>\n",
       "    </tr>\n",
       "    <tr>\n",
       "      <th>max</th>\n",
       "      <td>5.000000</td>\n",
       "      <td>77.000000</td>\n",
       "      <td>76.000000</td>\n",
       "      <td>57.000000</td>\n",
       "    </tr>\n",
       "  </tbody>\n",
       "</table>\n",
       "</div>"
      ],
      "text/plain": [
       "              stars          cool        useful         funny\n",
       "count  10000.000000  10000.000000  10000.000000  10000.000000\n",
       "mean       3.777500      0.876800      1.409300      0.701300\n",
       "std        1.214636      2.067861      2.336647      1.907942\n",
       "min        1.000000      0.000000      0.000000      0.000000\n",
       "25%        3.000000      0.000000      0.000000      0.000000\n",
       "50%        4.000000      0.000000      1.000000      0.000000\n",
       "75%        5.000000      1.000000      2.000000      1.000000\n",
       "max        5.000000     77.000000     76.000000     57.000000"
      ]
     },
     "execution_count": 6,
     "metadata": {},
     "output_type": "execute_result"
    }
   ],
   "source": [
    "yelp_reviews.describe()"
   ]
  },
  {
   "cell_type": "markdown",
   "id": "25f9f249",
   "metadata": {},
   "source": [
    "> The **.describe() method from Pandas gives us a summary** of what the dataset contains. The **count tells us the number of values** in the dataset for each feature so 10,000 total reviews. The **mean tells us the mean of each column**, for example the mean for the stars is 3.78 while 0.88 is the mean for the cool votes column. The **std, or standard deviation**, column is 1.2 which **is the dispersion around the mean**. The smallest value for each dataset is stored in the **min** column, while the maximum is stored in the **max**. Finally, the **quartiles** are represented by the 25%, 50% (median), and 75%"
   ]
  },
  {
   "cell_type": "code",
   "execution_count": 7,
   "id": "a309e5a1",
   "metadata": {},
   "outputs": [
    {
     "name": "stdout",
     "output_type": "stream",
     "text": [
      "<class 'pandas.core.frame.DataFrame'>\n",
      "RangeIndex: 10000 entries, 0 to 9999\n",
      "Data columns (total 10 columns):\n",
      " #   Column       Non-Null Count  Dtype \n",
      "---  ------       --------------  ----- \n",
      " 0   business_id  10000 non-null  object\n",
      " 1   date         10000 non-null  object\n",
      " 2   review_id    10000 non-null  object\n",
      " 3   stars        10000 non-null  int64 \n",
      " 4   text         10000 non-null  object\n",
      " 5   type         10000 non-null  object\n",
      " 6   user_id      10000 non-null  object\n",
      " 7   cool         10000 non-null  int64 \n",
      " 8   useful       10000 non-null  int64 \n",
      " 9   funny        10000 non-null  int64 \n",
      "dtypes: int64(4), object(6)\n",
      "memory usage: 781.4+ KB\n"
     ]
    }
   ],
   "source": [
    "yelp_reviews.info()"
   ]
  },
  {
   "cell_type": "markdown",
   "id": "5ac29ab3",
   "metadata": {},
   "source": [
    "> There are **no missing values in our dataset**, which is a great thing because our model has more data to work with"
   ]
  },
  {
   "cell_type": "code",
   "execution_count": 8,
   "id": "ac8ae203",
   "metadata": {
    "scrolled": false
   },
   "outputs": [
    {
     "name": "stdout",
     "output_type": "stream",
     "text": [
      "My wife took me here on my birthday for breakfast and it was excellent.  The weather was perfect which made sitting outside overlooking their grounds an absolute pleasure.  Our waitress was excellent and our food arrived quickly on the semi-busy Saturday morning.  It looked like the place fills up pretty quickly so the earlier you get here the better.\n",
      "\n",
      "Do yourself a favor and get their Bloody Mary.  It was phenomenal and simply the best I've ever had.  I'm pretty sure they only use ingredients from their garden and blend them fresh when you order it.  It was amazing.\n",
      "\n",
      "While EVERYTHING on the menu looks excellent, I had the white truffle scrambled eggs vegetable skillet and it was tasty and delicious.  It came with 2 pieces of their griddled bread with was amazing and it absolutely made the meal complete.  It was the best \"toast\" I've ever had.\n",
      "\n",
      "Anyway, I can't wait to go back!\n"
     ]
    }
   ],
   "source": [
    "print(yelp_reviews['text'][0])"
   ]
  },
  {
   "cell_type": "markdown",
   "id": "e89b01c9",
   "metadata": {},
   "source": [
    "> Allows us to **target the 'text' column** and access the first review inside"
   ]
  },
  {
   "cell_type": "markdown",
   "id": "503173c9",
   "metadata": {},
   "source": [
    "## Visualizing the dataset"
   ]
  },
  {
   "cell_type": "markdown",
   "id": "bd2dee87",
   "metadata": {},
   "source": [
    "Visualizing the dataset to better understand the dataset. We will count the words \n",
    "in the dataset and add it in a new column in our dataset."
   ]
  },
  {
   "cell_type": "markdown",
   "id": "aae3f013",
   "metadata": {},
   "source": [
    "### Creating length column"
   ]
  },
  {
   "cell_type": "code",
   "execution_count": 9,
   "id": "04c58b86",
   "metadata": {},
   "outputs": [],
   "source": [
    "yelp_reviews['length'] = yelp_reviews['text'].apply(len)"
   ]
  },
  {
   "cell_type": "markdown",
   "id": "156121bd",
   "metadata": {},
   "source": [
    "> Using the .apply(len) function to find the length of every review in the text column"
   ]
  },
  {
   "cell_type": "code",
   "execution_count": 10,
   "id": "8f8d8b1f",
   "metadata": {
    "scrolled": true
   },
   "outputs": [
    {
     "data": {
      "text/html": [
       "<div>\n",
       "<style scoped>\n",
       "    .dataframe tbody tr th:only-of-type {\n",
       "        vertical-align: middle;\n",
       "    }\n",
       "\n",
       "    .dataframe tbody tr th {\n",
       "        vertical-align: top;\n",
       "    }\n",
       "\n",
       "    .dataframe thead th {\n",
       "        text-align: right;\n",
       "    }\n",
       "</style>\n",
       "<table border=\"1\" class=\"dataframe\">\n",
       "  <thead>\n",
       "    <tr style=\"text-align: right;\">\n",
       "      <th></th>\n",
       "      <th>business_id</th>\n",
       "      <th>date</th>\n",
       "      <th>review_id</th>\n",
       "      <th>stars</th>\n",
       "      <th>text</th>\n",
       "      <th>type</th>\n",
       "      <th>user_id</th>\n",
       "      <th>cool</th>\n",
       "      <th>useful</th>\n",
       "      <th>funny</th>\n",
       "      <th>length</th>\n",
       "    </tr>\n",
       "  </thead>\n",
       "  <tbody>\n",
       "    <tr>\n",
       "      <th>0</th>\n",
       "      <td>9yKzy9PApeiPPOUJEtnvkg</td>\n",
       "      <td>2011-01-26</td>\n",
       "      <td>fWKvX83p0-ka4JS3dc6E5A</td>\n",
       "      <td>5</td>\n",
       "      <td>My wife took me here on my birthday for breakf...</td>\n",
       "      <td>review</td>\n",
       "      <td>rLtl8ZkDX5vH5nAx9C3q5Q</td>\n",
       "      <td>2</td>\n",
       "      <td>5</td>\n",
       "      <td>0</td>\n",
       "      <td>889</td>\n",
       "    </tr>\n",
       "    <tr>\n",
       "      <th>1</th>\n",
       "      <td>ZRJwVLyzEJq1VAihDhYiow</td>\n",
       "      <td>2011-07-27</td>\n",
       "      <td>IjZ33sJrzXqU-0X6U8NwyA</td>\n",
       "      <td>5</td>\n",
       "      <td>I have no idea why some people give bad review...</td>\n",
       "      <td>review</td>\n",
       "      <td>0a2KyEL0d3Yb1V6aivbIuQ</td>\n",
       "      <td>0</td>\n",
       "      <td>0</td>\n",
       "      <td>0</td>\n",
       "      <td>1345</td>\n",
       "    </tr>\n",
       "    <tr>\n",
       "      <th>2</th>\n",
       "      <td>6oRAC4uyJCsJl1X0WZpVSA</td>\n",
       "      <td>2012-06-14</td>\n",
       "      <td>IESLBzqUCLdSzSqm0eCSxQ</td>\n",
       "      <td>4</td>\n",
       "      <td>love the gyro plate. Rice is so good and I als...</td>\n",
       "      <td>review</td>\n",
       "      <td>0hT2KtfLiobPvh6cDC8JQg</td>\n",
       "      <td>0</td>\n",
       "      <td>1</td>\n",
       "      <td>0</td>\n",
       "      <td>76</td>\n",
       "    </tr>\n",
       "    <tr>\n",
       "      <th>3</th>\n",
       "      <td>_1QQZuf4zZOyFCvXc0o6Vg</td>\n",
       "      <td>2010-05-27</td>\n",
       "      <td>G-WvGaISbqqaMHlNnByodA</td>\n",
       "      <td>5</td>\n",
       "      <td>Rosie, Dakota, and I LOVE Chaparral Dog Park!!...</td>\n",
       "      <td>review</td>\n",
       "      <td>uZetl9T0NcROGOyFfughhg</td>\n",
       "      <td>1</td>\n",
       "      <td>2</td>\n",
       "      <td>0</td>\n",
       "      <td>419</td>\n",
       "    </tr>\n",
       "    <tr>\n",
       "      <th>4</th>\n",
       "      <td>6ozycU1RpktNG2-1BroVtw</td>\n",
       "      <td>2012-01-05</td>\n",
       "      <td>1uJFq2r5QfJG_6ExMRCaGw</td>\n",
       "      <td>5</td>\n",
       "      <td>General Manager Scott Petello is a good egg!!!...</td>\n",
       "      <td>review</td>\n",
       "      <td>vYmM4KTsC8ZfQBg-j5MWkw</td>\n",
       "      <td>0</td>\n",
       "      <td>0</td>\n",
       "      <td>0</td>\n",
       "      <td>469</td>\n",
       "    </tr>\n",
       "    <tr>\n",
       "      <th>...</th>\n",
       "      <td>...</td>\n",
       "      <td>...</td>\n",
       "      <td>...</td>\n",
       "      <td>...</td>\n",
       "      <td>...</td>\n",
       "      <td>...</td>\n",
       "      <td>...</td>\n",
       "      <td>...</td>\n",
       "      <td>...</td>\n",
       "      <td>...</td>\n",
       "      <td>...</td>\n",
       "    </tr>\n",
       "    <tr>\n",
       "      <th>9995</th>\n",
       "      <td>VY_tvNUCCXGXQeSvJl757Q</td>\n",
       "      <td>2012-07-28</td>\n",
       "      <td>Ubyfp2RSDYW0g7Mbr8N3iA</td>\n",
       "      <td>3</td>\n",
       "      <td>First visit...Had lunch here today - used my G...</td>\n",
       "      <td>review</td>\n",
       "      <td>_eqQoPtQ3e3UxLE4faT6ow</td>\n",
       "      <td>1</td>\n",
       "      <td>2</td>\n",
       "      <td>0</td>\n",
       "      <td>668</td>\n",
       "    </tr>\n",
       "    <tr>\n",
       "      <th>9996</th>\n",
       "      <td>EKzMHI1tip8rC1-ZAy64yg</td>\n",
       "      <td>2012-01-18</td>\n",
       "      <td>2XyIOQKbVFb6uXQdJ0RzlQ</td>\n",
       "      <td>4</td>\n",
       "      <td>Should be called house of deliciousness!\\n\\nI ...</td>\n",
       "      <td>review</td>\n",
       "      <td>ROru4uk5SaYc3rg8IU7SQw</td>\n",
       "      <td>0</td>\n",
       "      <td>0</td>\n",
       "      <td>0</td>\n",
       "      <td>881</td>\n",
       "    </tr>\n",
       "    <tr>\n",
       "      <th>9997</th>\n",
       "      <td>53YGfwmbW73JhFiemNeyzQ</td>\n",
       "      <td>2010-11-16</td>\n",
       "      <td>jyznYkIbpqVmlsZxSDSypA</td>\n",
       "      <td>4</td>\n",
       "      <td>I recently visited Olive and Ivy for business ...</td>\n",
       "      <td>review</td>\n",
       "      <td>gGbN1aKQHMgfQZkqlsuwzg</td>\n",
       "      <td>0</td>\n",
       "      <td>0</td>\n",
       "      <td>0</td>\n",
       "      <td>1425</td>\n",
       "    </tr>\n",
       "    <tr>\n",
       "      <th>9998</th>\n",
       "      <td>9SKdOoDHcFoxK5ZtsgHJoA</td>\n",
       "      <td>2012-12-02</td>\n",
       "      <td>5UKq9WQE1qQbJ0DJbc-B6Q</td>\n",
       "      <td>2</td>\n",
       "      <td>My nephew just moved to Scottsdale recently so...</td>\n",
       "      <td>review</td>\n",
       "      <td>0lyVoNazXa20WzUyZPLaQQ</td>\n",
       "      <td>0</td>\n",
       "      <td>0</td>\n",
       "      <td>0</td>\n",
       "      <td>880</td>\n",
       "    </tr>\n",
       "    <tr>\n",
       "      <th>9999</th>\n",
       "      <td>pF7uRzygyZsltbmVpjIyvw</td>\n",
       "      <td>2010-10-16</td>\n",
       "      <td>vWSmOhg2ID1MNZHaWapGbA</td>\n",
       "      <td>5</td>\n",
       "      <td>4-5 locations.. all 4.5 star average.. I think...</td>\n",
       "      <td>review</td>\n",
       "      <td>KSBFytcdjPKZgXKQnYQdkA</td>\n",
       "      <td>0</td>\n",
       "      <td>0</td>\n",
       "      <td>0</td>\n",
       "      <td>461</td>\n",
       "    </tr>\n",
       "  </tbody>\n",
       "</table>\n",
       "<p>10000 rows × 11 columns</p>\n",
       "</div>"
      ],
      "text/plain": [
       "                 business_id        date               review_id  stars  \\\n",
       "0     9yKzy9PApeiPPOUJEtnvkg  2011-01-26  fWKvX83p0-ka4JS3dc6E5A      5   \n",
       "1     ZRJwVLyzEJq1VAihDhYiow  2011-07-27  IjZ33sJrzXqU-0X6U8NwyA      5   \n",
       "2     6oRAC4uyJCsJl1X0WZpVSA  2012-06-14  IESLBzqUCLdSzSqm0eCSxQ      4   \n",
       "3     _1QQZuf4zZOyFCvXc0o6Vg  2010-05-27  G-WvGaISbqqaMHlNnByodA      5   \n",
       "4     6ozycU1RpktNG2-1BroVtw  2012-01-05  1uJFq2r5QfJG_6ExMRCaGw      5   \n",
       "...                      ...         ...                     ...    ...   \n",
       "9995  VY_tvNUCCXGXQeSvJl757Q  2012-07-28  Ubyfp2RSDYW0g7Mbr8N3iA      3   \n",
       "9996  EKzMHI1tip8rC1-ZAy64yg  2012-01-18  2XyIOQKbVFb6uXQdJ0RzlQ      4   \n",
       "9997  53YGfwmbW73JhFiemNeyzQ  2010-11-16  jyznYkIbpqVmlsZxSDSypA      4   \n",
       "9998  9SKdOoDHcFoxK5ZtsgHJoA  2012-12-02  5UKq9WQE1qQbJ0DJbc-B6Q      2   \n",
       "9999  pF7uRzygyZsltbmVpjIyvw  2010-10-16  vWSmOhg2ID1MNZHaWapGbA      5   \n",
       "\n",
       "                                                   text    type  \\\n",
       "0     My wife took me here on my birthday for breakf...  review   \n",
       "1     I have no idea why some people give bad review...  review   \n",
       "2     love the gyro plate. Rice is so good and I als...  review   \n",
       "3     Rosie, Dakota, and I LOVE Chaparral Dog Park!!...  review   \n",
       "4     General Manager Scott Petello is a good egg!!!...  review   \n",
       "...                                                 ...     ...   \n",
       "9995  First visit...Had lunch here today - used my G...  review   \n",
       "9996  Should be called house of deliciousness!\\n\\nI ...  review   \n",
       "9997  I recently visited Olive and Ivy for business ...  review   \n",
       "9998  My nephew just moved to Scottsdale recently so...  review   \n",
       "9999  4-5 locations.. all 4.5 star average.. I think...  review   \n",
       "\n",
       "                     user_id  cool  useful  funny  length  \n",
       "0     rLtl8ZkDX5vH5nAx9C3q5Q     2       5      0     889  \n",
       "1     0a2KyEL0d3Yb1V6aivbIuQ     0       0      0    1345  \n",
       "2     0hT2KtfLiobPvh6cDC8JQg     0       1      0      76  \n",
       "3     uZetl9T0NcROGOyFfughhg     1       2      0     419  \n",
       "4     vYmM4KTsC8ZfQBg-j5MWkw     0       0      0     469  \n",
       "...                      ...   ...     ...    ...     ...  \n",
       "9995  _eqQoPtQ3e3UxLE4faT6ow     1       2      0     668  \n",
       "9996  ROru4uk5SaYc3rg8IU7SQw     0       0      0     881  \n",
       "9997  gGbN1aKQHMgfQZkqlsuwzg     0       0      0    1425  \n",
       "9998  0lyVoNazXa20WzUyZPLaQQ     0       0      0     880  \n",
       "9999  KSBFytcdjPKZgXKQnYQdkA     0       0      0     461  \n",
       "\n",
       "[10000 rows x 11 columns]"
      ]
     },
     "execution_count": 10,
     "metadata": {},
     "output_type": "execute_result"
    }
   ],
   "source": [
    "yelp_reviews"
   ]
  },
  {
   "cell_type": "markdown",
   "id": "5fbd1711",
   "metadata": {},
   "source": [
    "### Plotting length column"
   ]
  },
  {
   "cell_type": "code",
   "execution_count": 11,
   "id": "63abbd2f",
   "metadata": {},
   "outputs": [
    {
     "data": {
      "text/plain": [
       "Text(0, 0.5, 'Number of Reviews')"
      ]
     },
     "execution_count": 11,
     "metadata": {},
     "output_type": "execute_result"
    },
    {
     "data": {
      "image/png": "[encoded data removed]",
      "text/plain": [
       "<Figure size 640x480 with 1 Axes>"
      ]
     },
     "metadata": {},
     "output_type": "display_data"
    }
   ],
   "source": [
    "sns.histplot(yelp_reviews['length'], bins=150, color='orange', kde=True)\n",
    "plt.title(\"Number of Reviews vs. Length\")\n",
    "plt.xlabel(\"Length of Reviews\")\n",
    "plt.ylabel(\"Number of Reviews\")"
   ]
  },
  {
   "cell_type": "markdown",
   "id": "3240fab6",
   "metadata": {},
   "source": [
    "> The histogram tells us that the length of the reviews is **positively skewed**.\n",
    "\n",
    "> The .histplot() method from Seaborn creates a histogram as long as you provide the parameters for the number of bins (or bars). The kde is the kernel density estimate and it closely follows the top of the histogram bars. Fro"
   ]
  },
  {
   "cell_type": "code",
   "execution_count": 12,
   "id": "a696fb88",
   "metadata": {},
   "outputs": [
    {
     "data": {
      "text/plain": [
       "count    10000.000000\n",
       "mean       710.738700\n",
       "std        617.399827\n",
       "min          1.000000\n",
       "25%        294.000000\n",
       "50%        541.500000\n",
       "75%        930.000000\n",
       "max       4997.000000\n",
       "Name: length, dtype: float64"
      ]
     },
     "execution_count": 12,
     "metadata": {},
     "output_type": "execute_result"
    }
   ],
   "source": [
    "yelp_reviews.length.describe()"
   ]
  },
  {
   "cell_type": "markdown",
   "id": "92df158a",
   "metadata": {},
   "source": [
    "> Shows us a summary of the length column where we can observe characteristics such as mean, deviation, quartiles, and more. "
   ]
  },
  {
   "cell_type": "markdown",
   "id": "341046e2",
   "metadata": {},
   "source": [
    "### Exploring min and max length reviews"
   ]
  },
  {
   "cell_type": "code",
   "execution_count": 13,
   "id": "ff7cee4f",
   "metadata": {
    "scrolled": true
   },
   "outputs": [
    {
     "data": {
      "text/plain": [
       "'In our continuing quest to identify cool, locally owned places to eat and/or drink, Caroline and I auditioned Vintage 95 last night. \\n\\nBefore I go further, understand that whenever I go out for eats or drinks, I have  in  mind a Platonic Ideal of the Bar/Pub/Eatery I most want to frequent. I\\'m on a constant quest to find that  Ideal expressed in Real Life. \\n\\nVintage 95 isn\\'t quite there, but it\\'s damn close. If I ever give something Five Stars, you\\'ll know it has pegged my Platonic Ideal. Anyway...\\n\\nThe plan last night was for drinks. No plans for food, just Adult Beverages and warm conversation. But it turned into more.\\n\\nThe location in downtown Chandler is terrific for us. The owners have created a very fine visual experience - leather, stone, dark woods, good lighting. And they don\\'t have the music turned up so loud that you CANNOT HAVE A CONVERSATION. This is one of my pet peeves. If I want to stare at people move their mouths while enduring an aural assault, I\\'ll stand on the deck of an aircraft carrier. When I go out with friends, I want to enjoy their company AND their conversation. Is that concept so difficult to grasp? [/rant off]\\n\\nThe atmosphere at Vintage 95 is very close to my Ideal. I\\'d go back just to sit on the leather couches in front of the fireplace, and then go back another time to sit on the leather stools at the bar, and then go back about fourteen more times to sit out on the patio. Seriously - go check out the patio. It is EXACTLY what a Patio Hangout Bar should be. EXACTLY.\\n\\nCaroline and I told the hostesses we were only there for drinks, so we were seated in the bar area in some fabulous leather club chairs. It wasn\\'t initmate, but we weren\\'t looking for intimate. And speaking of the bar, even though V95 advertises itself as a wine bar, they DO have booze. I\\'m not much of a wine drinker and was very pleased to see that they carried a pretty good selection of single malt scotches. Not an overwhelming selection, but well beyond the normal Glenfiddich /Glenlivit /GlenMorangie trio to which most places are limited. I had a couple of drums of Ardbeg, which is one of my new favorites and very reasonably priced at retail. (Scotch is never reasonably priced in restaurants, but I was celebrating so I didn\\'t care.) Caroline had her normal \"vodka martini extra dirty extra cold\" which she judged to have \"perfect dirtiness\", (no wonder I love her!), perfect amount of olives and very cold. \\n\\nThe limited Happy Hour menu had some very interesting choices. We settled on the bruschetta and the smoked tomato bisque. The bruschetta was VERY nice and quite unusual. You get to select four of eight choices for your bruschetta platter; we picked: (1) white bean and pancetta, (2) gravlax, caper goat cheese and pickled onions, (3) fig chutney, ricotta and prosciutto, (4) brie, pear and onion jam. They were all served cold, in nice sized portions and the flavors were all nicely balanced and very interesting. Caroline would have preferred the bread to not be so crispy, but I really liked it. The tomato bisque  was creamy, smoky and had well-balanced flavor. Caroline said it was unique and I say it was just darn delicious. \\n\\nThings being as they are, drinks and appetizers turned into food. A friend had told us \"you have to try the Vintage burger\", so we did. It came served with a mixture of regular and sweet potato fries, all nicely cooked and nicely seasoned. Recommended. The burger was VERY tasty. They obviously use good beef, the bun was fresh, the fixin\\'s were tasty. HIGHLY recommended.\\n\\nIn for a dime, in for a dollar, right? So we ordered dessert. Again, the dessert menu is short, but I\\'m okay with that as long as they do it well. Chocolate torte with hazelnut gelato, apple pie with carmel sauce and creme fraiche gelato, and something else we couldn\\'t remember. I\\'m allergic to hazelnut and don\\'t like sweet desserts, so we decided to try the apple pie.\\n\\nLike everything else we had sampled, the apple pie was unusual - you wouldn\\'t find it anywhere else. It was served on a freshly baked puff pastry, cubed apples served on top and inside - tender but not mushy -  with lots of cinnamon and sugar, plate was swirled with salted dolce la leche. It was tasty, but instead of the expected creme fraiche gelato, we were served hazelnut gelato. I didn\\'t realize it was hazelnut until I\\'d had a couple of bites and my throat started to swell up.\\n\\nAt this point that the night could have turned into a disaster, but to their credit - it didn\\'t. We told the waiter who told the manager, (Gavin - one of the owners), who immediately came and asked if I needed emergency assistance. I didn\\'t, I\\'m not THAT allergic.)  Frankly, their response was EXACTLY the kind of customer service you want to see. Anyone can make a mistake, so no harm, no foul. But I must give BIG Kudos to Gavin for his kindness, attention to detail and outstanding customer service.\\n\\nWe will DEFINTELY be back and I strongly recommend you put it on your list too.'"
      ]
     },
     "execution_count": 13,
     "metadata": {},
     "output_type": "execute_result"
    }
   ],
   "source": [
    "yelp_reviews[yelp_reviews['length'] == 4997]['text'].iloc[0]"
   ]
  },
  {
   "cell_type": "markdown",
   "id": "f82d446d",
   "metadata": {},
   "source": [
    "> We know the length of the largest review is 4997 from the .describe() function. So we can use the max value to specify that we are looking for the maximum length review, then we can access it's text column and print it out."
   ]
  },
  {
   "cell_type": "code",
   "execution_count": 14,
   "id": "5d2a58dc",
   "metadata": {},
   "outputs": [
    {
     "data": {
      "text/plain": [
       "'X'"
      ]
     },
     "execution_count": 14,
     "metadata": {},
     "output_type": "execute_result"
    }
   ],
   "source": [
    "yelp_reviews[yelp_reviews['length'] == 1]['text'].iloc[0]"
   ]
  },
  {
   "cell_type": "markdown",
   "id": "587fccd0",
   "metadata": {},
   "source": [
    "> Using the same method from earlier to locate and print the review with the minimum length"
   ]
  },
  {
   "cell_type": "markdown",
   "id": "6ae335ec",
   "metadata": {},
   "source": [
    "### Plotting the star count for reviews"
   ]
  },
  {
   "cell_type": "code",
   "execution_count": 15,
   "id": "5d5a4265",
   "metadata": {},
   "outputs": [
    {
     "data": {
      "text/plain": [
       "<AxesSubplot:xlabel='count', ylabel='stars'>"
      ]
     },
     "execution_count": 15,
     "metadata": {},
     "output_type": "execute_result"
    },
    {
     "data": {
      "image/png": "[encoded data removed]",
      "text/plain": [
       "<Figure size 640x480 with 1 Axes>"
      ]
     },
     "metadata": {},
     "output_type": "display_data"
    }
   ],
   "source": [
    "sns.countplot(y = 'stars', data = yelp_reviews)"
   ]
  },
  {
   "cell_type": "markdown",
   "id": "9bc3044a",
   "metadata": {},
   "source": [
    "> Using the Seaborn .countplot() method to assign the y-axis as the stars column from the yelp_reviews dataset"
   ]
  },
  {
   "cell_type": "code",
   "execution_count": 16,
   "id": "fd1fba81",
   "metadata": {},
   "outputs": [
    {
     "data": {
      "text/plain": [
       "<seaborn.axisgrid.FacetGrid at 0x15468d47e80>"
      ]
     },
     "execution_count": 16,
     "metadata": {},
     "output_type": "execute_result"
    },
    {
     "data": {
      "image/png": "[encoded data removed]",
      "text/plain": [
       "<Figure size 900x600 with 5 Axes>"
      ]
     },
     "metadata": {},
     "output_type": "display_data"
    }
   ],
   "source": [
    "facet = sns.FacetGrid(data = yelp_reviews, col = 'stars', col_wrap = 3)\n",
    "facet.map(sns.histplot, 'length', bins = 20, color = 'orange')"
   ]
  },
  {
   "cell_type": "markdown",
   "id": "06e95570",
   "metadata": {},
   "source": [
    "> Created facet graphs for each group of star counts (1 to 5) and their lengths, we can see that the **length increases as the number of stars increases**"
   ]
  },
  {
   "cell_type": "markdown",
   "id": "0792c628",
   "metadata": {},
   "source": [
    "### Creating 1 and 5 Star datasets\n"
   ]
  },
  {
   "cell_type": "code",
   "execution_count": 17,
   "id": "fe595878",
   "metadata": {},
   "outputs": [],
   "source": [
    "yelp_reviews_1star = yelp_reviews[yelp_reviews['stars'] == 1]"
   ]
  },
  {
   "cell_type": "markdown",
   "id": "4d07ec10",
   "metadata": {},
   "source": [
    "> Targetting the data in the stars column with the value of 1 and storing them in the variable yelp_reviews_1star"
   ]
  },
  {
   "cell_type": "code",
   "execution_count": 18,
   "id": "3d2d23ca",
   "metadata": {
    "scrolled": true
   },
   "outputs": [
    {
     "data": {
      "text/html": [
       "<div>\n",
       "<style scoped>\n",
       "    .dataframe tbody tr th:only-of-type {\n",
       "        vertical-align: middle;\n",
       "    }\n",
       "\n",
       "    .dataframe tbody tr th {\n",
       "        vertical-align: top;\n",
       "    }\n",
       "\n",
       "    .dataframe thead th {\n",
       "        text-align: right;\n",
       "    }\n",
       "</style>\n",
       "<table border=\"1\" class=\"dataframe\">\n",
       "  <thead>\n",
       "    <tr style=\"text-align: right;\">\n",
       "      <th></th>\n",
       "      <th>business_id</th>\n",
       "      <th>date</th>\n",
       "      <th>review_id</th>\n",
       "      <th>stars</th>\n",
       "      <th>text</th>\n",
       "      <th>type</th>\n",
       "      <th>user_id</th>\n",
       "      <th>cool</th>\n",
       "      <th>useful</th>\n",
       "      <th>funny</th>\n",
       "      <th>length</th>\n",
       "    </tr>\n",
       "  </thead>\n",
       "  <tbody>\n",
       "    <tr>\n",
       "      <th>23</th>\n",
       "      <td>IJ0o6b8bJFAbG6MjGfBebQ</td>\n",
       "      <td>2010-09-05</td>\n",
       "      <td>Dx9sfFU6Zn0GYOckijom-g</td>\n",
       "      <td>1</td>\n",
       "      <td>U can go there n check the car out. If u wanna...</td>\n",
       "      <td>review</td>\n",
       "      <td>zRlQEDYd_HKp0VS3hnAffA</td>\n",
       "      <td>0</td>\n",
       "      <td>1</td>\n",
       "      <td>1</td>\n",
       "      <td>594</td>\n",
       "    </tr>\n",
       "    <tr>\n",
       "      <th>31</th>\n",
       "      <td>vvA3fbps4F9nGlAEYKk_sA</td>\n",
       "      <td>2012-05-04</td>\n",
       "      <td>S9OVpXat8k5YwWCn6FAgXg</td>\n",
       "      <td>1</td>\n",
       "      <td>Disgusting!  Had a Groupon so my daughter and ...</td>\n",
       "      <td>review</td>\n",
       "      <td>8AMn6644NmBf96xGO3w6OA</td>\n",
       "      <td>0</td>\n",
       "      <td>1</td>\n",
       "      <td>0</td>\n",
       "      <td>361</td>\n",
       "    </tr>\n",
       "    <tr>\n",
       "      <th>35</th>\n",
       "      <td>o1GIYYZJjM6nM03fQs_uEQ</td>\n",
       "      <td>2011-11-30</td>\n",
       "      <td>ApKbwpYJdnhhgP4NbjQw2Q</td>\n",
       "      <td>1</td>\n",
       "      <td>I've eaten here many times, but none as bad as...</td>\n",
       "      <td>review</td>\n",
       "      <td>iwUN95LIaEr75TZE_JC6bg</td>\n",
       "      <td>0</td>\n",
       "      <td>4</td>\n",
       "      <td>3</td>\n",
       "      <td>1198</td>\n",
       "    </tr>\n",
       "    <tr>\n",
       "      <th>61</th>\n",
       "      <td>l4vBbCL9QbGiwLuLKwD_bA</td>\n",
       "      <td>2011-11-22</td>\n",
       "      <td>DJVxOfj2Rw9zklC9tU3i1w</td>\n",
       "      <td>1</td>\n",
       "      <td>I have always been a fan of Burlington's deals...</td>\n",
       "      <td>review</td>\n",
       "      <td>EPROVap0M19Y6_4uf3eCmQ</td>\n",
       "      <td>0</td>\n",
       "      <td>0</td>\n",
       "      <td>0</td>\n",
       "      <td>569</td>\n",
       "    </tr>\n",
       "    <tr>\n",
       "      <th>64</th>\n",
       "      <td>CEswyP-9SsXRNLR9fFGKKw</td>\n",
       "      <td>2012-05-19</td>\n",
       "      <td>GXj4PNAi095-q9ynPYH3kg</td>\n",
       "      <td>1</td>\n",
       "      <td>Another night meeting friends here.  I have to...</td>\n",
       "      <td>review</td>\n",
       "      <td>MjLAe48XNfYlTeFYca5gMw</td>\n",
       "      <td>0</td>\n",
       "      <td>1</td>\n",
       "      <td>2</td>\n",
       "      <td>498</td>\n",
       "    </tr>\n",
       "    <tr>\n",
       "      <th>...</th>\n",
       "      <td>...</td>\n",
       "      <td>...</td>\n",
       "      <td>...</td>\n",
       "      <td>...</td>\n",
       "      <td>...</td>\n",
       "      <td>...</td>\n",
       "      <td>...</td>\n",
       "      <td>...</td>\n",
       "      <td>...</td>\n",
       "      <td>...</td>\n",
       "      <td>...</td>\n",
       "    </tr>\n",
       "    <tr>\n",
       "      <th>9924</th>\n",
       "      <td>mhQCxOiqp03qnhGRTtPduw</td>\n",
       "      <td>2012-07-07</td>\n",
       "      <td>PCjnn__E8AzNa2kXFXxTHQ</td>\n",
       "      <td>1</td>\n",
       "      <td>Horrible service.</td>\n",
       "      <td>review</td>\n",
       "      <td>rvaJcf5OIY2So_pkoqDHLQ</td>\n",
       "      <td>0</td>\n",
       "      <td>1</td>\n",
       "      <td>0</td>\n",
       "      <td>17</td>\n",
       "    </tr>\n",
       "    <tr>\n",
       "      <th>9931</th>\n",
       "      <td>C_eWAEOvkHZ_IZYGwjtpmg</td>\n",
       "      <td>2011-04-25</td>\n",
       "      <td>QfdoE-XqEeCsttJH8g0ugQ</td>\n",
       "      <td>1</td>\n",
       "      <td>I love Saddle Ranch for its casual night time ...</td>\n",
       "      <td>review</td>\n",
       "      <td>yhGfcKunPjcy-v-1ppr6oQ</td>\n",
       "      <td>0</td>\n",
       "      <td>2</td>\n",
       "      <td>0</td>\n",
       "      <td>995</td>\n",
       "    </tr>\n",
       "    <tr>\n",
       "      <th>9953</th>\n",
       "      <td>QCxXYA13PtkD3wec47_r8Q</td>\n",
       "      <td>2012-03-14</td>\n",
       "      <td>V2N2TCqnaqMYfg7zXGG-Rg</td>\n",
       "      <td>1</td>\n",
       "      <td>\"Hipster,Trendy\" ????-I think NOT !!!! Very di...</td>\n",
       "      <td>review</td>\n",
       "      <td>JEQ6el2-tLtKJU6k_SpE-w</td>\n",
       "      <td>0</td>\n",
       "      <td>2</td>\n",
       "      <td>0</td>\n",
       "      <td>296</td>\n",
       "    </tr>\n",
       "    <tr>\n",
       "      <th>9984</th>\n",
       "      <td>wepFVY82q_tuDzG6lQjHWw</td>\n",
       "      <td>2012-02-12</td>\n",
       "      <td>spusZYROtBKw_5tv3gYm4Q</td>\n",
       "      <td>1</td>\n",
       "      <td>Went last night to Whore Foods to get basics t...</td>\n",
       "      <td>review</td>\n",
       "      <td>W7zmm1uzlyUkEqpSG7PlBw</td>\n",
       "      <td>0</td>\n",
       "      <td>1</td>\n",
       "      <td>2</td>\n",
       "      <td>1673</td>\n",
       "    </tr>\n",
       "    <tr>\n",
       "      <th>9987</th>\n",
       "      <td>r-a-Cn9hxdEnYTtVTB5bMQ</td>\n",
       "      <td>2012-04-07</td>\n",
       "      <td>j9HwZZoBBmJgOlqDSuJcxg</td>\n",
       "      <td>1</td>\n",
       "      <td>The food is delicious.  The service:  discrimi...</td>\n",
       "      <td>review</td>\n",
       "      <td>toPtsUtYoRB-5-ThrOy2Fg</td>\n",
       "      <td>0</td>\n",
       "      <td>0</td>\n",
       "      <td>0</td>\n",
       "      <td>200</td>\n",
       "    </tr>\n",
       "  </tbody>\n",
       "</table>\n",
       "<p>749 rows × 11 columns</p>\n",
       "</div>"
      ],
      "text/plain": [
       "                 business_id        date               review_id  stars  \\\n",
       "23    IJ0o6b8bJFAbG6MjGfBebQ  2010-09-05  Dx9sfFU6Zn0GYOckijom-g      1   \n",
       "31    vvA3fbps4F9nGlAEYKk_sA  2012-05-04  S9OVpXat8k5YwWCn6FAgXg      1   \n",
       "35    o1GIYYZJjM6nM03fQs_uEQ  2011-11-30  ApKbwpYJdnhhgP4NbjQw2Q      1   \n",
       "61    l4vBbCL9QbGiwLuLKwD_bA  2011-11-22  DJVxOfj2Rw9zklC9tU3i1w      1   \n",
       "64    CEswyP-9SsXRNLR9fFGKKw  2012-05-19  GXj4PNAi095-q9ynPYH3kg      1   \n",
       "...                      ...         ...                     ...    ...   \n",
       "9924  mhQCxOiqp03qnhGRTtPduw  2012-07-07  PCjnn__E8AzNa2kXFXxTHQ      1   \n",
       "9931  C_eWAEOvkHZ_IZYGwjtpmg  2011-04-25  QfdoE-XqEeCsttJH8g0ugQ      1   \n",
       "9953  QCxXYA13PtkD3wec47_r8Q  2012-03-14  V2N2TCqnaqMYfg7zXGG-Rg      1   \n",
       "9984  wepFVY82q_tuDzG6lQjHWw  2012-02-12  spusZYROtBKw_5tv3gYm4Q      1   \n",
       "9987  r-a-Cn9hxdEnYTtVTB5bMQ  2012-04-07  j9HwZZoBBmJgOlqDSuJcxg      1   \n",
       "\n",
       "                                                   text    type  \\\n",
       "23    U can go there n check the car out. If u wanna...  review   \n",
       "31    Disgusting!  Had a Groupon so my daughter and ...  review   \n",
       "35    I've eaten here many times, but none as bad as...  review   \n",
       "61    I have always been a fan of Burlington's deals...  review   \n",
       "64    Another night meeting friends here.  I have to...  review   \n",
       "...                                                 ...     ...   \n",
       "9924                                  Horrible service.  review   \n",
       "9931  I love Saddle Ranch for its casual night time ...  review   \n",
       "9953  \"Hipster,Trendy\" ????-I think NOT !!!! Very di...  review   \n",
       "9984  Went last night to Whore Foods to get basics t...  review   \n",
       "9987  The food is delicious.  The service:  discrimi...  review   \n",
       "\n",
       "                     user_id  cool  useful  funny  length  \n",
       "23    zRlQEDYd_HKp0VS3hnAffA     0       1      1     594  \n",
       "31    8AMn6644NmBf96xGO3w6OA     0       1      0     361  \n",
       "35    iwUN95LIaEr75TZE_JC6bg     0       4      3    1198  \n",
       "61    EPROVap0M19Y6_4uf3eCmQ     0       0      0     569  \n",
       "64    MjLAe48XNfYlTeFYca5gMw     0       1      2     498  \n",
       "...                      ...   ...     ...    ...     ...  \n",
       "9924  rvaJcf5OIY2So_pkoqDHLQ     0       1      0      17  \n",
       "9931  yhGfcKunPjcy-v-1ppr6oQ     0       2      0     995  \n",
       "9953  JEQ6el2-tLtKJU6k_SpE-w     0       2      0     296  \n",
       "9984  W7zmm1uzlyUkEqpSG7PlBw     0       1      2    1673  \n",
       "9987  toPtsUtYoRB-5-ThrOy2Fg     0       0      0     200  \n",
       "\n",
       "[749 rows x 11 columns]"
      ]
     },
     "execution_count": 18,
     "metadata": {},
     "output_type": "execute_result"
    }
   ],
   "source": [
    "yelp_reviews_1star"
   ]
  },
  {
   "cell_type": "code",
   "execution_count": 19,
   "id": "30879137",
   "metadata": {},
   "outputs": [],
   "source": [
    "yelp_reviews_5star = yelp_reviews[yelp_reviews['stars'] == 5]"
   ]
  },
  {
   "cell_type": "markdown",
   "id": "54e688ec",
   "metadata": {},
   "source": [
    "> Target the 5 star reviews and store them in yelp_reviews_5star"
   ]
  },
  {
   "cell_type": "code",
   "execution_count": 20,
   "id": "ddfd6f1b",
   "metadata": {
    "scrolled": true
   },
   "outputs": [
    {
     "data": {
      "text/html": [
       "<div>\n",
       "<style scoped>\n",
       "    .dataframe tbody tr th:only-of-type {\n",
       "        vertical-align: middle;\n",
       "    }\n",
       "\n",
       "    .dataframe tbody tr th {\n",
       "        vertical-align: top;\n",
       "    }\n",
       "\n",
       "    .dataframe thead th {\n",
       "        text-align: right;\n",
       "    }\n",
       "</style>\n",
       "<table border=\"1\" class=\"dataframe\">\n",
       "  <thead>\n",
       "    <tr style=\"text-align: right;\">\n",
       "      <th></th>\n",
       "      <th>business_id</th>\n",
       "      <th>date</th>\n",
       "      <th>review_id</th>\n",
       "      <th>stars</th>\n",
       "      <th>text</th>\n",
       "      <th>type</th>\n",
       "      <th>user_id</th>\n",
       "      <th>cool</th>\n",
       "      <th>useful</th>\n",
       "      <th>funny</th>\n",
       "      <th>length</th>\n",
       "    </tr>\n",
       "  </thead>\n",
       "  <tbody>\n",
       "    <tr>\n",
       "      <th>0</th>\n",
       "      <td>9yKzy9PApeiPPOUJEtnvkg</td>\n",
       "      <td>2011-01-26</td>\n",
       "      <td>fWKvX83p0-ka4JS3dc6E5A</td>\n",
       "      <td>5</td>\n",
       "      <td>My wife took me here on my birthday for breakf...</td>\n",
       "      <td>review</td>\n",
       "      <td>rLtl8ZkDX5vH5nAx9C3q5Q</td>\n",
       "      <td>2</td>\n",
       "      <td>5</td>\n",
       "      <td>0</td>\n",
       "      <td>889</td>\n",
       "    </tr>\n",
       "    <tr>\n",
       "      <th>1</th>\n",
       "      <td>ZRJwVLyzEJq1VAihDhYiow</td>\n",
       "      <td>2011-07-27</td>\n",
       "      <td>IjZ33sJrzXqU-0X6U8NwyA</td>\n",
       "      <td>5</td>\n",
       "      <td>I have no idea why some people give bad review...</td>\n",
       "      <td>review</td>\n",
       "      <td>0a2KyEL0d3Yb1V6aivbIuQ</td>\n",
       "      <td>0</td>\n",
       "      <td>0</td>\n",
       "      <td>0</td>\n",
       "      <td>1345</td>\n",
       "    </tr>\n",
       "    <tr>\n",
       "      <th>3</th>\n",
       "      <td>_1QQZuf4zZOyFCvXc0o6Vg</td>\n",
       "      <td>2010-05-27</td>\n",
       "      <td>G-WvGaISbqqaMHlNnByodA</td>\n",
       "      <td>5</td>\n",
       "      <td>Rosie, Dakota, and I LOVE Chaparral Dog Park!!...</td>\n",
       "      <td>review</td>\n",
       "      <td>uZetl9T0NcROGOyFfughhg</td>\n",
       "      <td>1</td>\n",
       "      <td>2</td>\n",
       "      <td>0</td>\n",
       "      <td>419</td>\n",
       "    </tr>\n",
       "    <tr>\n",
       "      <th>4</th>\n",
       "      <td>6ozycU1RpktNG2-1BroVtw</td>\n",
       "      <td>2012-01-05</td>\n",
       "      <td>1uJFq2r5QfJG_6ExMRCaGw</td>\n",
       "      <td>5</td>\n",
       "      <td>General Manager Scott Petello is a good egg!!!...</td>\n",
       "      <td>review</td>\n",
       "      <td>vYmM4KTsC8ZfQBg-j5MWkw</td>\n",
       "      <td>0</td>\n",
       "      <td>0</td>\n",
       "      <td>0</td>\n",
       "      <td>469</td>\n",
       "    </tr>\n",
       "    <tr>\n",
       "      <th>6</th>\n",
       "      <td>zp713qNhx8d9KCJJnrw1xA</td>\n",
       "      <td>2010-02-12</td>\n",
       "      <td>riFQ3vxNpP4rWLk_CSri2A</td>\n",
       "      <td>5</td>\n",
       "      <td>Drop what you're doing and drive here. After I...</td>\n",
       "      <td>review</td>\n",
       "      <td>wFweIWhv2fREZV_dYkz_1g</td>\n",
       "      <td>7</td>\n",
       "      <td>7</td>\n",
       "      <td>4</td>\n",
       "      <td>1565</td>\n",
       "    </tr>\n",
       "    <tr>\n",
       "      <th>...</th>\n",
       "      <td>...</td>\n",
       "      <td>...</td>\n",
       "      <td>...</td>\n",
       "      <td>...</td>\n",
       "      <td>...</td>\n",
       "      <td>...</td>\n",
       "      <td>...</td>\n",
       "      <td>...</td>\n",
       "      <td>...</td>\n",
       "      <td>...</td>\n",
       "      <td>...</td>\n",
       "    </tr>\n",
       "    <tr>\n",
       "      <th>9990</th>\n",
       "      <td>R8VwdLyvsp9iybNqRvm94g</td>\n",
       "      <td>2011-10-03</td>\n",
       "      <td>pcEeHdAJPoFNF23es0kKWg</td>\n",
       "      <td>5</td>\n",
       "      <td>Yes I do rock the hipster joints.  I dig this ...</td>\n",
       "      <td>review</td>\n",
       "      <td>b92Y3tyWTQQZ5FLifex62Q</td>\n",
       "      <td>1</td>\n",
       "      <td>1</td>\n",
       "      <td>1</td>\n",
       "      <td>263</td>\n",
       "    </tr>\n",
       "    <tr>\n",
       "      <th>9991</th>\n",
       "      <td>WJ5mq4EiWYAA4Vif0xDfdg</td>\n",
       "      <td>2011-12-05</td>\n",
       "      <td>EuHX-39FR7tyyG1ElvN1Jw</td>\n",
       "      <td>5</td>\n",
       "      <td>Only 4 stars? \\n\\n(A few notes: The folks that...</td>\n",
       "      <td>review</td>\n",
       "      <td>hTau-iNZFwoNsPCaiIUTEA</td>\n",
       "      <td>1</td>\n",
       "      <td>1</td>\n",
       "      <td>0</td>\n",
       "      <td>908</td>\n",
       "    </tr>\n",
       "    <tr>\n",
       "      <th>9992</th>\n",
       "      <td>f96lWMIAUhYIYy9gOktivQ</td>\n",
       "      <td>2009-03-10</td>\n",
       "      <td>YF17z7HWlMj6aezZc-pVEw</td>\n",
       "      <td>5</td>\n",
       "      <td>I'm not normally one to jump at reviewing a ch...</td>\n",
       "      <td>review</td>\n",
       "      <td>W_QXYA7A0IhMrvbckz7eVg</td>\n",
       "      <td>2</td>\n",
       "      <td>3</td>\n",
       "      <td>2</td>\n",
       "      <td>1326</td>\n",
       "    </tr>\n",
       "    <tr>\n",
       "      <th>9994</th>\n",
       "      <td>L3BSpFvxcNf3T_teitgt6A</td>\n",
       "      <td>2012-03-19</td>\n",
       "      <td>0nxb1gIGFgk3WbC5zwhKZg</td>\n",
       "      <td>5</td>\n",
       "      <td>Let's see...what is there NOT to like about Su...</td>\n",
       "      <td>review</td>\n",
       "      <td>OzOZv-Knlw3oz9K5Kh5S6A</td>\n",
       "      <td>1</td>\n",
       "      <td>2</td>\n",
       "      <td>1</td>\n",
       "      <td>1968</td>\n",
       "    </tr>\n",
       "    <tr>\n",
       "      <th>9999</th>\n",
       "      <td>pF7uRzygyZsltbmVpjIyvw</td>\n",
       "      <td>2010-10-16</td>\n",
       "      <td>vWSmOhg2ID1MNZHaWapGbA</td>\n",
       "      <td>5</td>\n",
       "      <td>4-5 locations.. all 4.5 star average.. I think...</td>\n",
       "      <td>review</td>\n",
       "      <td>KSBFytcdjPKZgXKQnYQdkA</td>\n",
       "      <td>0</td>\n",
       "      <td>0</td>\n",
       "      <td>0</td>\n",
       "      <td>461</td>\n",
       "    </tr>\n",
       "  </tbody>\n",
       "</table>\n",
       "<p>3337 rows × 11 columns</p>\n",
       "</div>"
      ],
      "text/plain": [
       "                 business_id        date               review_id  stars  \\\n",
       "0     9yKzy9PApeiPPOUJEtnvkg  2011-01-26  fWKvX83p0-ka4JS3dc6E5A      5   \n",
       "1     ZRJwVLyzEJq1VAihDhYiow  2011-07-27  IjZ33sJrzXqU-0X6U8NwyA      5   \n",
       "3     _1QQZuf4zZOyFCvXc0o6Vg  2010-05-27  G-WvGaISbqqaMHlNnByodA      5   \n",
       "4     6ozycU1RpktNG2-1BroVtw  2012-01-05  1uJFq2r5QfJG_6ExMRCaGw      5   \n",
       "6     zp713qNhx8d9KCJJnrw1xA  2010-02-12  riFQ3vxNpP4rWLk_CSri2A      5   \n",
       "...                      ...         ...                     ...    ...   \n",
       "9990  R8VwdLyvsp9iybNqRvm94g  2011-10-03  pcEeHdAJPoFNF23es0kKWg      5   \n",
       "9991  WJ5mq4EiWYAA4Vif0xDfdg  2011-12-05  EuHX-39FR7tyyG1ElvN1Jw      5   \n",
       "9992  f96lWMIAUhYIYy9gOktivQ  2009-03-10  YF17z7HWlMj6aezZc-pVEw      5   \n",
       "9994  L3BSpFvxcNf3T_teitgt6A  2012-03-19  0nxb1gIGFgk3WbC5zwhKZg      5   \n",
       "9999  pF7uRzygyZsltbmVpjIyvw  2010-10-16  vWSmOhg2ID1MNZHaWapGbA      5   \n",
       "\n",
       "                                                   text    type  \\\n",
       "0     My wife took me here on my birthday for breakf...  review   \n",
       "1     I have no idea why some people give bad review...  review   \n",
       "3     Rosie, Dakota, and I LOVE Chaparral Dog Park!!...  review   \n",
       "4     General Manager Scott Petello is a good egg!!!...  review   \n",
       "6     Drop what you're doing and drive here. After I...  review   \n",
       "...                                                 ...     ...   \n",
       "9990  Yes I do rock the hipster joints.  I dig this ...  review   \n",
       "9991  Only 4 stars? \\n\\n(A few notes: The folks that...  review   \n",
       "9992  I'm not normally one to jump at reviewing a ch...  review   \n",
       "9994  Let's see...what is there NOT to like about Su...  review   \n",
       "9999  4-5 locations.. all 4.5 star average.. I think...  review   \n",
       "\n",
       "                     user_id  cool  useful  funny  length  \n",
       "0     rLtl8ZkDX5vH5nAx9C3q5Q     2       5      0     889  \n",
       "1     0a2KyEL0d3Yb1V6aivbIuQ     0       0      0    1345  \n",
       "3     uZetl9T0NcROGOyFfughhg     1       2      0     419  \n",
       "4     vYmM4KTsC8ZfQBg-j5MWkw     0       0      0     469  \n",
       "6     wFweIWhv2fREZV_dYkz_1g     7       7      4    1565  \n",
       "...                      ...   ...     ...    ...     ...  \n",
       "9990  b92Y3tyWTQQZ5FLifex62Q     1       1      1     263  \n",
       "9991  hTau-iNZFwoNsPCaiIUTEA     1       1      0     908  \n",
       "9992  W_QXYA7A0IhMrvbckz7eVg     2       3      2    1326  \n",
       "9994  OzOZv-Knlw3oz9K5Kh5S6A     1       2      1    1968  \n",
       "9999  KSBFytcdjPKZgXKQnYQdkA     0       0      0     461  \n",
       "\n",
       "[3337 rows x 11 columns]"
      ]
     },
     "execution_count": 20,
     "metadata": {},
     "output_type": "execute_result"
    }
   ],
   "source": [
    "yelp_reviews_5star"
   ]
  },
  {
   "cell_type": "code",
   "execution_count": 21,
   "id": "51ef0f0b",
   "metadata": {},
   "outputs": [],
   "source": [
    "yelp_reviews_1_5stars = pd.concat([yelp_reviews_1star, yelp_reviews_5star])"
   ]
  },
  {
   "cell_type": "markdown",
   "id": "19608338",
   "metadata": {},
   "source": [
    "> Using Pandas' .concat() method to concatenate the 1 and 5 star dataset and storing it in the yelp_reviews_1_5stars dataset"
   ]
  },
  {
   "cell_type": "code",
   "execution_count": 22,
   "id": "2264b698",
   "metadata": {
    "scrolled": true
   },
   "outputs": [
    {
     "data": {
      "text/html": [
       "<div>\n",
       "<style scoped>\n",
       "    .dataframe tbody tr th:only-of-type {\n",
       "        vertical-align: middle;\n",
       "    }\n",
       "\n",
       "    .dataframe tbody tr th {\n",
       "        vertical-align: top;\n",
       "    }\n",
       "\n",
       "    .dataframe thead th {\n",
       "        text-align: right;\n",
       "    }\n",
       "</style>\n",
       "<table border=\"1\" class=\"dataframe\">\n",
       "  <thead>\n",
       "    <tr style=\"text-align: right;\">\n",
       "      <th></th>\n",
       "      <th>business_id</th>\n",
       "      <th>date</th>\n",
       "      <th>review_id</th>\n",
       "      <th>stars</th>\n",
       "      <th>text</th>\n",
       "      <th>type</th>\n",
       "      <th>user_id</th>\n",
       "      <th>cool</th>\n",
       "      <th>useful</th>\n",
       "      <th>funny</th>\n",
       "      <th>length</th>\n",
       "    </tr>\n",
       "  </thead>\n",
       "  <tbody>\n",
       "    <tr>\n",
       "      <th>23</th>\n",
       "      <td>IJ0o6b8bJFAbG6MjGfBebQ</td>\n",
       "      <td>2010-09-05</td>\n",
       "      <td>Dx9sfFU6Zn0GYOckijom-g</td>\n",
       "      <td>1</td>\n",
       "      <td>U can go there n check the car out. If u wanna...</td>\n",
       "      <td>review</td>\n",
       "      <td>zRlQEDYd_HKp0VS3hnAffA</td>\n",
       "      <td>0</td>\n",
       "      <td>1</td>\n",
       "      <td>1</td>\n",
       "      <td>594</td>\n",
       "    </tr>\n",
       "    <tr>\n",
       "      <th>31</th>\n",
       "      <td>vvA3fbps4F9nGlAEYKk_sA</td>\n",
       "      <td>2012-05-04</td>\n",
       "      <td>S9OVpXat8k5YwWCn6FAgXg</td>\n",
       "      <td>1</td>\n",
       "      <td>Disgusting!  Had a Groupon so my daughter and ...</td>\n",
       "      <td>review</td>\n",
       "      <td>8AMn6644NmBf96xGO3w6OA</td>\n",
       "      <td>0</td>\n",
       "      <td>1</td>\n",
       "      <td>0</td>\n",
       "      <td>361</td>\n",
       "    </tr>\n",
       "    <tr>\n",
       "      <th>35</th>\n",
       "      <td>o1GIYYZJjM6nM03fQs_uEQ</td>\n",
       "      <td>2011-11-30</td>\n",
       "      <td>ApKbwpYJdnhhgP4NbjQw2Q</td>\n",
       "      <td>1</td>\n",
       "      <td>I've eaten here many times, but none as bad as...</td>\n",
       "      <td>review</td>\n",
       "      <td>iwUN95LIaEr75TZE_JC6bg</td>\n",
       "      <td>0</td>\n",
       "      <td>4</td>\n",
       "      <td>3</td>\n",
       "      <td>1198</td>\n",
       "    </tr>\n",
       "    <tr>\n",
       "      <th>61</th>\n",
       "      <td>l4vBbCL9QbGiwLuLKwD_bA</td>\n",
       "      <td>2011-11-22</td>\n",
       "      <td>DJVxOfj2Rw9zklC9tU3i1w</td>\n",
       "      <td>1</td>\n",
       "      <td>I have always been a fan of Burlington's deals...</td>\n",
       "      <td>review</td>\n",
       "      <td>EPROVap0M19Y6_4uf3eCmQ</td>\n",
       "      <td>0</td>\n",
       "      <td>0</td>\n",
       "      <td>0</td>\n",
       "      <td>569</td>\n",
       "    </tr>\n",
       "    <tr>\n",
       "      <th>64</th>\n",
       "      <td>CEswyP-9SsXRNLR9fFGKKw</td>\n",
       "      <td>2012-05-19</td>\n",
       "      <td>GXj4PNAi095-q9ynPYH3kg</td>\n",
       "      <td>1</td>\n",
       "      <td>Another night meeting friends here.  I have to...</td>\n",
       "      <td>review</td>\n",
       "      <td>MjLAe48XNfYlTeFYca5gMw</td>\n",
       "      <td>0</td>\n",
       "      <td>1</td>\n",
       "      <td>2</td>\n",
       "      <td>498</td>\n",
       "    </tr>\n",
       "    <tr>\n",
       "      <th>...</th>\n",
       "      <td>...</td>\n",
       "      <td>...</td>\n",
       "      <td>...</td>\n",
       "      <td>...</td>\n",
       "      <td>...</td>\n",
       "      <td>...</td>\n",
       "      <td>...</td>\n",
       "      <td>...</td>\n",
       "      <td>...</td>\n",
       "      <td>...</td>\n",
       "      <td>...</td>\n",
       "    </tr>\n",
       "    <tr>\n",
       "      <th>9990</th>\n",
       "      <td>R8VwdLyvsp9iybNqRvm94g</td>\n",
       "      <td>2011-10-03</td>\n",
       "      <td>pcEeHdAJPoFNF23es0kKWg</td>\n",
       "      <td>5</td>\n",
       "      <td>Yes I do rock the hipster joints.  I dig this ...</td>\n",
       "      <td>review</td>\n",
       "      <td>b92Y3tyWTQQZ5FLifex62Q</td>\n",
       "      <td>1</td>\n",
       "      <td>1</td>\n",
       "      <td>1</td>\n",
       "      <td>263</td>\n",
       "    </tr>\n",
       "    <tr>\n",
       "      <th>9991</th>\n",
       "      <td>WJ5mq4EiWYAA4Vif0xDfdg</td>\n",
       "      <td>2011-12-05</td>\n",
       "      <td>EuHX-39FR7tyyG1ElvN1Jw</td>\n",
       "      <td>5</td>\n",
       "      <td>Only 4 stars? \\n\\n(A few notes: The folks that...</td>\n",
       "      <td>review</td>\n",
       "      <td>hTau-iNZFwoNsPCaiIUTEA</td>\n",
       "      <td>1</td>\n",
       "      <td>1</td>\n",
       "      <td>0</td>\n",
       "      <td>908</td>\n",
       "    </tr>\n",
       "    <tr>\n",
       "      <th>9992</th>\n",
       "      <td>f96lWMIAUhYIYy9gOktivQ</td>\n",
       "      <td>2009-03-10</td>\n",
       "      <td>YF17z7HWlMj6aezZc-pVEw</td>\n",
       "      <td>5</td>\n",
       "      <td>I'm not normally one to jump at reviewing a ch...</td>\n",
       "      <td>review</td>\n",
       "      <td>W_QXYA7A0IhMrvbckz7eVg</td>\n",
       "      <td>2</td>\n",
       "      <td>3</td>\n",
       "      <td>2</td>\n",
       "      <td>1326</td>\n",
       "    </tr>\n",
       "    <tr>\n",
       "      <th>9994</th>\n",
       "      <td>L3BSpFvxcNf3T_teitgt6A</td>\n",
       "      <td>2012-03-19</td>\n",
       "      <td>0nxb1gIGFgk3WbC5zwhKZg</td>\n",
       "      <td>5</td>\n",
       "      <td>Let's see...what is there NOT to like about Su...</td>\n",
       "      <td>review</td>\n",
       "      <td>OzOZv-Knlw3oz9K5Kh5S6A</td>\n",
       "      <td>1</td>\n",
       "      <td>2</td>\n",
       "      <td>1</td>\n",
       "      <td>1968</td>\n",
       "    </tr>\n",
       "    <tr>\n",
       "      <th>9999</th>\n",
       "      <td>pF7uRzygyZsltbmVpjIyvw</td>\n",
       "      <td>2010-10-16</td>\n",
       "      <td>vWSmOhg2ID1MNZHaWapGbA</td>\n",
       "      <td>5</td>\n",
       "      <td>4-5 locations.. all 4.5 star average.. I think...</td>\n",
       "      <td>review</td>\n",
       "      <td>KSBFytcdjPKZgXKQnYQdkA</td>\n",
       "      <td>0</td>\n",
       "      <td>0</td>\n",
       "      <td>0</td>\n",
       "      <td>461</td>\n",
       "    </tr>\n",
       "  </tbody>\n",
       "</table>\n",
       "<p>4086 rows × 11 columns</p>\n",
       "</div>"
      ],
      "text/plain": [
       "                 business_id        date               review_id  stars  \\\n",
       "23    IJ0o6b8bJFAbG6MjGfBebQ  2010-09-05  Dx9sfFU6Zn0GYOckijom-g      1   \n",
       "31    vvA3fbps4F9nGlAEYKk_sA  2012-05-04  S9OVpXat8k5YwWCn6FAgXg      1   \n",
       "35    o1GIYYZJjM6nM03fQs_uEQ  2011-11-30  ApKbwpYJdnhhgP4NbjQw2Q      1   \n",
       "61    l4vBbCL9QbGiwLuLKwD_bA  2011-11-22  DJVxOfj2Rw9zklC9tU3i1w      1   \n",
       "64    CEswyP-9SsXRNLR9fFGKKw  2012-05-19  GXj4PNAi095-q9ynPYH3kg      1   \n",
       "...                      ...         ...                     ...    ...   \n",
       "9990  R8VwdLyvsp9iybNqRvm94g  2011-10-03  pcEeHdAJPoFNF23es0kKWg      5   \n",
       "9991  WJ5mq4EiWYAA4Vif0xDfdg  2011-12-05  EuHX-39FR7tyyG1ElvN1Jw      5   \n",
       "9992  f96lWMIAUhYIYy9gOktivQ  2009-03-10  YF17z7HWlMj6aezZc-pVEw      5   \n",
       "9994  L3BSpFvxcNf3T_teitgt6A  2012-03-19  0nxb1gIGFgk3WbC5zwhKZg      5   \n",
       "9999  pF7uRzygyZsltbmVpjIyvw  2010-10-16  vWSmOhg2ID1MNZHaWapGbA      5   \n",
       "\n",
       "                                                   text    type  \\\n",
       "23    U can go there n check the car out. If u wanna...  review   \n",
       "31    Disgusting!  Had a Groupon so my daughter and ...  review   \n",
       "35    I've eaten here many times, but none as bad as...  review   \n",
       "61    I have always been a fan of Burlington's deals...  review   \n",
       "64    Another night meeting friends here.  I have to...  review   \n",
       "...                                                 ...     ...   \n",
       "9990  Yes I do rock the hipster joints.  I dig this ...  review   \n",
       "9991  Only 4 stars? \\n\\n(A few notes: The folks that...  review   \n",
       "9992  I'm not normally one to jump at reviewing a ch...  review   \n",
       "9994  Let's see...what is there NOT to like about Su...  review   \n",
       "9999  4-5 locations.. all 4.5 star average.. I think...  review   \n",
       "\n",
       "                     user_id  cool  useful  funny  length  \n",
       "23    zRlQEDYd_HKp0VS3hnAffA     0       1      1     594  \n",
       "31    8AMn6644NmBf96xGO3w6OA     0       1      0     361  \n",
       "35    iwUN95LIaEr75TZE_JC6bg     0       4      3    1198  \n",
       "61    EPROVap0M19Y6_4uf3eCmQ     0       0      0     569  \n",
       "64    MjLAe48XNfYlTeFYca5gMw     0       1      2     498  \n",
       "...                      ...   ...     ...    ...     ...  \n",
       "9990  b92Y3tyWTQQZ5FLifex62Q     1       1      1     263  \n",
       "9991  hTau-iNZFwoNsPCaiIUTEA     1       1      0     908  \n",
       "9992  W_QXYA7A0IhMrvbckz7eVg     2       3      2    1326  \n",
       "9994  OzOZv-Knlw3oz9K5Kh5S6A     1       2      1    1968  \n",
       "9999  KSBFytcdjPKZgXKQnYQdkA     0       0      0     461  \n",
       "\n",
       "[4086 rows x 11 columns]"
      ]
     },
     "execution_count": 22,
     "metadata": {},
     "output_type": "execute_result"
    }
   ],
   "source": [
    "yelp_reviews_1_5stars"
   ]
  },
  {
   "cell_type": "code",
   "execution_count": 23,
   "id": "33bc1170",
   "metadata": {},
   "outputs": [
    {
     "name": "stdout",
     "output_type": "stream",
     "text": [
      "<class 'pandas.core.frame.DataFrame'>\n",
      "Int64Index: 4086 entries, 23 to 9999\n",
      "Data columns (total 11 columns):\n",
      " #   Column       Non-Null Count  Dtype \n",
      "---  ------       --------------  ----- \n",
      " 0   business_id  4086 non-null   object\n",
      " 1   date         4086 non-null   object\n",
      " 2   review_id    4086 non-null   object\n",
      " 3   stars        4086 non-null   int64 \n",
      " 4   text         4086 non-null   object\n",
      " 5   type         4086 non-null   object\n",
      " 6   user_id      4086 non-null   object\n",
      " 7   cool         4086 non-null   int64 \n",
      " 8   useful       4086 non-null   int64 \n",
      " 9   funny        4086 non-null   int64 \n",
      " 10  length       4086 non-null   int64 \n",
      "dtypes: int64(5), object(6)\n",
      "memory usage: 383.1+ KB\n"
     ]
    }
   ],
   "source": [
    "yelp_reviews_1_5stars.info()"
   ]
  },
  {
   "cell_type": "markdown",
   "id": "8c7871d5",
   "metadata": {},
   "source": [
    "> Showing the information behind the concatenated dataframe, including the number of entries and colomn data types"
   ]
  },
  {
   "cell_type": "code",
   "execution_count": 24,
   "id": "0456b28f",
   "metadata": {},
   "outputs": [
    {
     "name": "stdout",
     "output_type": "stream",
     "text": [
      "1-Star Reviews =  18.33 %\n",
      "5-Star Reviews =  81.67 %\n"
     ]
    }
   ],
   "source": [
    "print(\"1-Star Reviews = \", round((len(yelp_reviews_1star) / len(yelp_reviews_1_5stars)) * 100, 2), \"%\")\n",
    "\n",
    "print(\"5-Star Reviews = \", round((len(yelp_reviews_5star) / len(yelp_reviews_1_5stars)) * 100, 2), \"%\")"
   ]
  },
  {
   "cell_type": "markdown",
   "id": "8da5a120",
   "metadata": {},
   "source": [
    "> Our **data is not evenly balanced** because the two extreme star count values are not the same. A balanced dataset would have the 1-star reviews take up half of the 1 and 5 star reviews dataset."
   ]
  },
  {
   "cell_type": "markdown",
   "id": "12bdad71",
   "metadata": {},
   "source": [
    "### Plotting the 1 and 5 star reviews"
   ]
  },
  {
   "cell_type": "code",
   "execution_count": 25,
   "id": "62f8b873",
   "metadata": {},
   "outputs": [
    {
     "data": {
      "text/plain": [
       "<AxesSubplot:xlabel='stars', ylabel='count'>"
      ]
     },
     "execution_count": 25,
     "metadata": {},
     "output_type": "execute_result"
    },
    {
     "data": {
      "image/png": "[encoded data removed]",
      "text/plain": [
       "<Figure size 640x480 with 1 Axes>"
      ]
     },
     "metadata": {},
     "output_type": "display_data"
    }
   ],
   "source": [
    "sns.countplot(x = yelp_reviews_1_5stars['stars'], data = yelp_reviews_1_5stars, label = 'Count')"
   ]
  },
  {
   "cell_type": "markdown",
   "id": "f3abaca7",
   "metadata": {},
   "source": [
    "## Process data with NLP techniques"
   ]
  },
  {
   "cell_type": "markdown",
   "id": "85adb1f4",
   "metadata": {},
   "source": [
    "To prepare the data for training we need to perform so fundamental natural language\n",
    "processing techniques for the dataset to be ready. These techniques **clean the data\n",
    "and allow the model to interpret it without any unnecessary information** clouding \n",
    "the model's performance. \n",
    "\n",
    "The model is able to interpret data from a matrix of words and their frequency \n",
    "count called a count vectorizer. The count vectorizer essentially contains a list\n",
    "of all uncommon words and numbers, as well as how often they occur in each review. \n",
    "For example, if the word \"excellent\" is used 3 times in a review, the model can \n",
    "most likely predict that the review is a highly rated review. "
   ]
  },
  {
   "cell_type": "markdown",
   "id": "321b2fa3",
   "metadata": {},
   "source": [
    "### Removing punctuation"
   ]
  },
  {
   "cell_type": "markdown",
   "id": "9d7a0988",
   "metadata": {},
   "source": [
    "For the count vectorizer to work properly, the text needs to be cleaned to **remove \n",
    "any punctuation** or common (meaningless) words aka stopwords. To remove punctuation\n",
    "we will run a **for loop to check every character in every review** and only **keep the\n",
    "characters that are not in our list** of punctuation. "
   ]
  },
  {
   "cell_type": "code",
   "execution_count": 26,
   "id": "bc142ede",
   "metadata": {},
   "outputs": [
    {
     "data": {
      "text/plain": [
       "'!\"#$%&\\'()*+,-./:;<=>?@[\\\\]^_`{|}~'"
      ]
     },
     "execution_count": 26,
     "metadata": {},
     "output_type": "execute_result"
    }
   ],
   "source": [
    "import string\n",
    "string.punctuation"
   ]
  },
  {
   "cell_type": "markdown",
   "id": "03f6d5c6",
   "metadata": {},
   "source": [
    "> Importing the string package to identify the useless punctuation symbols that exist in our dataset"
   ]
  },
  {
   "cell_type": "code",
   "execution_count": 27,
   "id": "4e49a663",
   "metadata": {},
   "outputs": [],
   "source": [
    "# Defining a function for removing punctuation\n",
    "def removing_punc(message):\n",
    "    Text_punc_removed = []\n",
    "    \n",
    "    \n",
    "    for char in message:\n",
    "        if char not in string.punctuation:\n",
    "            Text_punc_removed.append(char)\n",
    "    \n",
    "    Text_punc_joined = \"\".join(Text_punc_removed)\n",
    "    \n",
    "    return Text_punc_joined"
   ]
  },
  {
   "cell_type": "markdown",
   "id": "7fe382a6",
   "metadata": {},
   "source": [
    "> The **removin_punc function removes punctuation** by taking in the message as input and creates an empty array to store our results in. It checks every character in the message and then checks to see if its a punctuation. If the character is not, then it gets added to the array for results. After the letters have been added, the .join() method **joins the letters back together into groups**"
   ]
  },
  {
   "cell_type": "code",
   "execution_count": 28,
   "id": "54235d48",
   "metadata": {},
   "outputs": [],
   "source": [
    "yelp_nopunc = yelp_reviews['text'].apply(removing_punc)"
   ]
  },
  {
   "cell_type": "code",
   "execution_count": 29,
   "id": "ce344514",
   "metadata": {},
   "outputs": [
    {
     "data": {
      "text/plain": [
       "0       My wife took me here on my birthday for breakf...\n",
       "1       I have no idea why some people give bad review...\n",
       "2       love the gyro plate Rice is so good and I also...\n",
       "3       Rosie Dakota and I LOVE Chaparral Dog Park Its...\n",
       "4       General Manager Scott Petello is a good egg No...\n",
       "                              ...                        \n",
       "9995    First visitHad lunch here today  used my Group...\n",
       "9996    Should be called house of deliciousness\\n\\nI c...\n",
       "9997    I recently visited Olive and Ivy for business ...\n",
       "9998    My nephew just moved to Scottsdale recently so...\n",
       "9999    45 locations all 45 star average I think Arizo...\n",
       "Name: text, Length: 10000, dtype: object"
      ]
     },
     "execution_count": 29,
     "metadata": {},
     "output_type": "execute_result"
    }
   ],
   "source": [
    "yelp_nopunc"
   ]
  },
  {
   "cell_type": "markdown",
   "id": "e00acd99",
   "metadata": {},
   "source": [
    "### Removing stopwords"
   ]
  },
  {
   "cell_type": "markdown",
   "id": "37657752",
   "metadata": {},
   "source": [
    "Next, the meaningless **stop words need to be removed** by repeating the same process \n",
    "as before. Use a **for loop to check if the word is in our list** of stop words, and \n",
    "then only **keeping the ones not in the list**. "
   ]
  },
  {
   "cell_type": "code",
   "execution_count": 30,
   "id": "844e8754",
   "metadata": {},
   "outputs": [
    {
     "data": {
      "text/plain": [
       "179"
      ]
     },
     "execution_count": 30,
     "metadata": {},
     "output_type": "execute_result"
    }
   ],
   "source": [
    "# import nltk\n",
    "# nltk.download('stopwords')\n",
    "\n",
    "from nltk.corpus import stopwords\n",
    "stopwords.words('english')\n",
    "\n",
    "len(stopwords.words('english'))"
   ]
  },
  {
   "cell_type": "markdown",
   "id": "1dc0fa66",
   "metadata": {},
   "source": [
    "> Imports the natural language toolkit, or nltk, and import the stopwords module which includes a list of 179 stopwords. Stopwords are **common words that are unncessary** during training."
   ]
  },
  {
   "cell_type": "code",
   "execution_count": 31,
   "id": "2166ad86",
   "metadata": {},
   "outputs": [],
   "source": [
    "# Defining a function for removing stop words\n",
    "def removing_stopwords(message):\n",
    "    Text_clean = []\n",
    "    \n",
    "    for word in message.split():\n",
    "        if word.lower() not in stopwords.words('english'):\n",
    "            Text_clean.append(word)\n",
    "\n",
    "    return Text_clean"
   ]
  },
  {
   "cell_type": "markdown",
   "id": "8bf69d89",
   "metadata": {},
   "source": [
    "> The **removing_stopwords function removes stopwords** by creating an empty array for storing the clean results and then going through every word in the text with punctuation removed. The **.split() method splits the strings into a list** so we can iterate through it. We then use the **.lower() method to convert the string into lowercase** and then checking to see if they are in our list of stopwords. If the word is not, then they are added to our result array"
   ]
  },
  {
   "cell_type": "code",
   "execution_count": 32,
   "id": "790011b9",
   "metadata": {},
   "outputs": [],
   "source": [
    "yelp_clean = yelp_nopunc.apply(removing_stopwords)"
   ]
  },
  {
   "cell_type": "markdown",
   "id": "9042fa08",
   "metadata": {},
   "source": [
    "> Assigning the cleaned up **yelp reviews with no punctuation or stopwords** to the variable **yelp_clean**"
   ]
  },
  {
   "cell_type": "code",
   "execution_count": 33,
   "id": "04b4bdb2",
   "metadata": {},
   "outputs": [
    {
     "name": "stdout",
     "output_type": "stream",
     "text": [
      "['wife', 'took', 'birthday', 'breakfast', 'excellent', 'weather', 'perfect', 'made', 'sitting', 'outside', 'overlooking', 'grounds', 'absolute', 'pleasure', 'waitress', 'excellent', 'food', 'arrived', 'quickly', 'semibusy', 'Saturday', 'morning', 'looked', 'like', 'place', 'fills', 'pretty', 'quickly', 'earlier', 'get', 'better', 'favor', 'get', 'Bloody', 'Mary', 'phenomenal', 'simply', 'best', 'Ive', 'ever', 'Im', 'pretty', 'sure', 'use', 'ingredients', 'garden', 'blend', 'fresh', 'order', 'amazing', 'EVERYTHING', 'menu', 'looks', 'excellent', 'white', 'truffle', 'scrambled', 'eggs', 'vegetable', 'skillet', 'tasty', 'delicious', 'came', '2', 'pieces', 'griddled', 'bread', 'amazing', 'absolutely', 'made', 'meal', 'complete', 'best', 'toast', 'Ive', 'ever', 'Anyway', 'cant', 'wait', 'go', 'back']\n"
     ]
    }
   ],
   "source": [
    "print(yelp_clean[0])"
   ]
  },
  {
   "cell_type": "markdown",
   "id": "fa0f3506",
   "metadata": {},
   "source": [
    "> Verifying the first cleaned up review has no punctuation or stopwords"
   ]
  },
  {
   "cell_type": "markdown",
   "id": "0561c030",
   "metadata": {},
   "source": [
    "### Creating Count Vectorizer"
   ]
  },
  {
   "cell_type": "markdown",
   "id": "b088df9b",
   "metadata": {},
   "source": [
    "Finally, we **use the cleaned text to create a count vectorizer** from our sci-kit \n",
    "learn library class. The count vectorizer will fit around our clean data and then\n",
    "transform into a matrix of words and frequencies. It **converts text into numerical representation by creating a matrix that shows the frequency in occurences of tokenized words**. The text input is tokenized into words or n-grams (small groups of words) and then counts each occurence of that group."
   ]
  },
  {
   "cell_type": "code",
   "execution_count": 34,
   "id": "c15d18d9",
   "metadata": {},
   "outputs": [],
   "source": [
    "from sklearn.feature_extraction.text import CountVectorizer\n",
    "\n",
    "vectorizer = CountVectorizer()"
   ]
  },
  {
   "cell_type": "markdown",
   "id": "f18649cb",
   "metadata": {},
   "source": [
    "> Importing the CountVectorizer class from sklearn and creating a vectorizer instance object under the class"
   ]
  },
  {
   "cell_type": "code",
   "execution_count": 35,
   "id": "834ef2a0",
   "metadata": {},
   "outputs": [],
   "source": [
    "yelp_vectorizer = vectorizer.fit_transform([' '.join(i) for i in yelp_clean])"
   ]
  },
  {
   "cell_type": "markdown",
   "id": "ce4f88c1",
   "metadata": {},
   "source": [
    "> Use the .join() method to **join every word in the yelp_clean list** back into a review (the words were seperated so we could iterate through them). Then use the .fit_transform() method from the vectorizer class to **fit the data to the vectorizer** and create the count vectorizer matrix, **store the results in yelp_vectorizer**"
   ]
  },
  {
   "cell_type": "code",
   "execution_count": 36,
   "id": "604f915a",
   "metadata": {},
   "outputs": [
    {
     "name": "stdout",
     "output_type": "stream",
     "text": [
      "['00' '007' '00s' ... 'éclairs' 'école' 'ém']\n",
      "36237\n"
     ]
    },
    {
     "data": {
      "text/plain": [
       "(10000, 36237)"
      ]
     },
     "execution_count": 36,
     "metadata": {},
     "output_type": "execute_result"
    }
   ],
   "source": [
    "print(vectorizer.get_feature_names_out())\n",
    "\n",
    "print(len(vectorizer.get_feature_names_out()))\n",
    "\n",
    "yelp_vectorizer.shape"
   ]
  },
  {
   "cell_type": "markdown",
   "id": "2cf361db",
   "metadata": {},
   "source": [
    "> Our count vectorizer matix has **36,237 unique words from 10,000 reviews**."
   ]
  },
  {
   "cell_type": "markdown",
   "id": "65eea2a0",
   "metadata": {},
   "source": [
    "## Applying Naive Bayes classifier"
   ]
  },
  {
   "cell_type": "code",
   "execution_count": 37,
   "id": "ef3bc4cc",
   "metadata": {},
   "outputs": [],
   "source": [
    "from sklearn.naive_bayes import MultinomialNB\n",
    "\n",
    "NB_classifier = MultinomialNB()"
   ]
  },
  {
   "cell_type": "markdown",
   "id": "68175854",
   "metadata": {},
   "source": [
    "> Importing the naive bayes classifier we will be using for this project from sci-kit learn and then **creating the object NB_classifier** from the class"
   ]
  },
  {
   "cell_type": "code",
   "execution_count": 38,
   "id": "fb09ee8c",
   "metadata": {},
   "outputs": [
    {
     "data": {
      "text/plain": [
       "array([5, 5, 4, ..., 4, 2, 5], dtype=int64)"
      ]
     },
     "execution_count": 38,
     "metadata": {},
     "output_type": "execute_result"
    }
   ],
   "source": [
    "label = yelp_reviews['stars'].values\n",
    "\n",
    "label"
   ]
  },
  {
   "cell_type": "markdown",
   "id": "790451f3",
   "metadata": {},
   "source": [
    "> Assigning the variable label to the values in the stars column. This means that **label is an array containing star count**"
   ]
  },
  {
   "cell_type": "markdown",
   "id": "bf2b22a9",
   "metadata": {},
   "source": [
    "### Training on entire dataset (for fun)"
   ]
  },
  {
   "cell_type": "code",
   "execution_count": 39,
   "id": "a1ae2d3b",
   "metadata": {},
   "outputs": [
    {
     "data": {
      "text/plain": [
       "MultinomialNB()"
      ]
     },
     "execution_count": 39,
     "metadata": {},
     "output_type": "execute_result"
    }
   ],
   "source": [
    "NB_classifier.fit(yelp_vectorizer, label)"
   ]
  },
  {
   "cell_type": "markdown",
   "id": "50e44cf5",
   "metadata": {},
   "source": [
    "> Training the model to the entire dataset (not recommended) **just for fun** because I want to test the model with my own reviews."
   ]
  },
  {
   "cell_type": "code",
   "execution_count": 49,
   "id": "b713f654",
   "metadata": {},
   "outputs": [
    {
     "name": "stdout",
     "output_type": "stream",
     "text": [
      "I hated eating here, the food was bad\n"
     ]
    },
    {
     "data": {
      "text/plain": [
       "array([4], dtype=int64)"
      ]
     },
     "execution_count": 49,
     "metadata": {},
     "output_type": "execute_result"
    }
   ],
   "source": [
    "sample = [input()]\n",
    "\n",
    "testing_sample = vectorizer.transform(sample)\n",
    "\n",
    "sample_predict = NB_classifier.predict(testing_sample)\n",
    "\n",
    "sample_predict"
   ]
  },
  {
   "cell_type": "markdown",
   "id": "0c88b6da",
   "metadata": {},
   "source": [
    "> Creating a **fun section to test my own reviews** on here, it is good at detecting obvious ones but sometimes it gives wrong answers for some of the reviews that are clearly wrong. For example, try typing \"I hated eating here, the food was bad\" which sounds like a one star review but it thinks it's a four star review"
   ]
  },
  {
   "cell_type": "markdown",
   "id": "33751ea0",
   "metadata": {},
   "source": [
    "## Splitting the dataset"
   ]
  },
  {
   "cell_type": "code",
   "execution_count": 55,
   "id": "9efe6e75",
   "metadata": {},
   "outputs": [
    {
     "data": {
      "text/plain": [
       "(10000, 36237)"
      ]
     },
     "execution_count": 55,
     "metadata": {},
     "output_type": "execute_result"
    }
   ],
   "source": [
    "X = yelp_vectorizer\n",
    "X.shape"
   ]
  },
  {
   "cell_type": "markdown",
   "id": "146864dd",
   "metadata": {},
   "source": [
    "> Our features dataset (X) will be the count vectorizer which stores the frequency of all the uncommon words 10,000 reviews"
   ]
  },
  {
   "cell_type": "code",
   "execution_count": 54,
   "id": "a13086d9",
   "metadata": {},
   "outputs": [
    {
     "data": {
      "text/plain": [
       "(10000,)"
      ]
     },
     "execution_count": 54,
     "metadata": {},
     "output_type": "execute_result"
    }
   ],
   "source": [
    "y = label\n",
    "y.shape"
   ]
  },
  {
   "cell_type": "markdown",
   "id": "f6bf29bf",
   "metadata": {},
   "source": [
    "> The dependent variable (y) is the labeled star count for every review"
   ]
  },
  {
   "cell_type": "code",
   "execution_count": 41,
   "id": "b8c451fd",
   "metadata": {},
   "outputs": [],
   "source": [
    "from sklearn.model_selection import train_test_split"
   ]
  },
  {
   "cell_type": "markdown",
   "id": "bc01fe92",
   "metadata": {},
   "source": [
    "> Importing the train_test_split function to split the dataset into training and testing sets"
   ]
  },
  {
   "cell_type": "code",
   "execution_count": 59,
   "id": "69877305",
   "metadata": {},
   "outputs": [],
   "source": [
    "X_train, y_train, X_test, y_test = train_test_split(X, y, test_size = 0.2)"
   ]
  },
  {
   "cell_type": "markdown",
   "id": "304e1d1e",
   "metadata": {},
   "source": [
    "> Splitting the data into training and testing sets for features and dependent variables"
   ]
  },
  {
   "cell_type": "markdown",
   "id": "6b4675c3",
   "metadata": {},
   "source": [
    "## Training the model"
   ]
  },
  {
   "cell_type": "code",
   "execution_count": 58,
   "id": "9b595f5b",
   "metadata": {},
   "outputs": [],
   "source": [
    "from sklearn.naive_bayes import MultinomialNB\n",
    "\n",
    "NB_classfier = MultinomialNB()"
   ]
  },
  {
   "cell_type": "code",
   "execution_count": 57,
   "id": "ca4d4ec5",
   "metadata": {},
   "outputs": [],
   "source": [
    "NB_classifier = "
   ]
  }
 ],
 "metadata": {
  "kernelspec": {
   "display_name": "Python 3 (ipykernel)",
   "language": "python",
   "name": "python3"
  },
  "language_info": {
   "codemirror_mode": {
    "name": "ipython",
    "version": 3
   },
   "file_extension": ".py",
   "mimetype": "text/x-python",
   "name": "python",
   "nbconvert_exporter": "python",
   "pygments_lexer": "ipython3",
   "version": "3.9.13"
  },
  "vscode": {
   "interpreter": {
    "hash": "c261aea317cc0286b3b3261fbba9abdec21eaa57589985bb7a274bf54d6cc0a7"
   }
  }
 },
 "nbformat": 4,
 "nbformat_minor": 5
}
